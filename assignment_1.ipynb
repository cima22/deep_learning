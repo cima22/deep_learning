{
 "cells": [
  {
   "cell_type": "code",
   "execution_count": null,
   "id": "41e74382",
   "metadata": {},
   "outputs": [],
   "source": [
    "import torch"
   ]
  },
  {
   "cell_type": "code",
   "execution_count": null,
   "id": "ff2bdf0e",
   "metadata": {},
   "outputs": [],
   "source": [
    "class BinaryCLassifier(torch.nn.Module):\n",
    "    def __init__(self):\n",
    "        super().__init__()\n",
    "        self.layer1 = torch.nn.Linear(in_features = 6, out_features = 2, bias = True)\n",
    "        self.layer2 = torch.nn.Linear(in_features = 2, out_features = 1, bias = True)\n",
    "        self.activation = torch.nn.Sigmoid()\n",
    "    \n",
    "    def forward(self,x):\n",
    "        x = self.activation(self.layer1(x))\n",
    "        x = self.layer2(x)\n",
    "        return x"
   ]
  }
 ],
 "metadata": {
  "kernelspec": {
   "display_name": "Python 3",
   "language": "python",
   "name": "python3"
  },
  "language_info": {
   "codemirror_mode": {
    "name": "ipython",
    "version": 3
   },
   "file_extension": ".py",
   "mimetype": "text/x-python",
   "name": "python",
   "nbconvert_exporter": "python",
   "pygments_lexer": "ipython3",
   "version": "3.8.8"
  }
 },
 "nbformat": 4,
 "nbformat_minor": 5
}
