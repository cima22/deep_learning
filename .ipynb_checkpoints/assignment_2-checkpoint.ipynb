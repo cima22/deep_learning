{
 "cells": [
  {
   "cell_type": "markdown",
   "id": "c5eb4bd9",
   "metadata": {},
   "source": [
    "# Gabriele Cimador SM3500523 - Assignment 2\n",
    "The purpose of this assignment is: \n",
    "- Calculate the intrinsic dimension of the KMNIST dataset using the twoNN algorithm;\n",
    "- Train an autoencoder which reduces the dimension of the data to the intrinsic dimension;\n",
    "- Assess the correctness of the intrinsic dimension via a classifier; use the encoder part (freezed parameters) and a classification layer to classify the output of the encoder. If no information is lost, the classifier should be able to perform better than a random classifier (0.1 accuracy)."
   ]
  },
  {
   "cell_type": "code",
   "execution_count": 1,
   "id": "f39c36b0",
   "metadata": {},
   "outputs": [],
   "source": [
    "from dadapy import data\n",
    "import torchvision\n",
    "import torch\n",
    "from torch.utils.data import TensorDataset, DataLoader\n",
    "import matplotlib.pyplot as plt\n",
    "import numpy as np\n",
    "from urllib.request import urlretrieve\n",
    "from os.path import exists, isdir\n",
    "from os import makedirs\n",
    "from math import ceil"
   ]
  },
  {
   "cell_type": "markdown",
   "id": "6f75c74d",
   "metadata": {},
   "source": [
    "## Random seed setting\n",
    "Let us set a manual seed to allow reproducibility of the experiment."
   ]
  },
  {
   "cell_type": "code",
   "execution_count": 2,
   "id": "e5f63d8a",
   "metadata": {},
   "outputs": [
    {
     "data": {
      "text/plain": [
       "<torch._C.Generator at 0x7f223335b510>"
      ]
     },
     "execution_count": 2,
     "metadata": {},
     "output_type": "execute_result"
    }
   ],
   "source": [
    "torch.manual_seed(0)"
   ]
  },
  {
   "cell_type": "markdown",
   "id": "365f74f8",
   "metadata": {},
   "source": [
    "## Device selection\n",
    "We will use GPUs if available to speed up the computations."
   ]
  },
  {
   "cell_type": "code",
   "execution_count": 3,
   "id": "75cc66da",
   "metadata": {},
   "outputs": [],
   "source": [
    "device = torch.device(\"cuda:0\" if torch.cuda.is_available() else \"cpu\")"
   ]
  },
  {
   "cell_type": "markdown",
   "id": "996dd597",
   "metadata": {},
   "source": [
    "## The dataset\n",
    "### Retrieving the dataset\n",
    "We will retrieve the dataset if not present. The dataset is in Numpy format to use the twoNN algorithm.\n",
    "The values of the dataset are shrinked from [0,255] to [0,1]."
   ]
  },
  {
   "cell_type": "code",
   "execution_count": 4,
   "id": "a5865bd1",
   "metadata": {},
   "outputs": [],
   "source": [
    "def fetch_kmnist(data_path = \"kmnist\", force_download = True):\n",
    "    \"\"\"Function that fetches the train and test kmnist dataset and returns it in a numpy array.\n",
    "    It downloads it if the file is not present or if force_download is True.\"\"\"\n",
    "    \n",
    "    url = 'http://codh.rois.ac.jp/kmnist/dataset/kmnist/kmnist-'\n",
    "    train_set_url = url + 'train-imgs.npz'\n",
    "    test_set_url  = url + 'test-imgs.npz'\n",
    "    train_labels_url = url + 'train-labels.npz'\n",
    "    test_labels_url  = url + 'test-labels.npz'\n",
    "    \n",
    "    train_set_path = data_path + \"/train_set\"\n",
    "    test_set_path  = data_path + \"/test_set\"\n",
    "    train_labels_path = data_path + \"/train_labels\"\n",
    "    test_labels_path = data_path + \"/test_labels\"\n",
    "    \n",
    "    if not isdir(data_path):\n",
    "        makedirs(data_path)\n",
    "    \n",
    "    for path,url in [(train_set_path,train_set_url),(test_set_path,test_set_url),(train_labels_path,train_labels_url),(test_labels_path,test_labels_url)]:\n",
    "        if not exists(path) or force_download:\n",
    "            print(f\"downloading data from {url} to {path}\")\n",
    "            urlretrieve(url, path)\n",
    "       \n",
    "    train_set = np.load(train_set_path)['arr_0'] / 255\n",
    "    test_set  = np.load(test_set_path)['arr_0'] / 255\n",
    "    train_labels = np.load(train_labels_path)['arr_0']\n",
    "    test_labels  = np.load(test_labels_path)['arr_0']\n",
    "    \n",
    "    return train_set, test_set, train_labels, test_labels"
   ]
  },
  {
   "cell_type": "code",
   "execution_count": 5,
   "id": "8c7f1d3a",
   "metadata": {},
   "outputs": [
    {
     "name": "stdout",
     "output_type": "stream",
     "text": [
      "downloading data from http://codh.rois.ac.jp/kmnist/dataset/kmnist/kmnist-train-imgs.npz to kmnist/train_set\n",
      "downloading data from http://codh.rois.ac.jp/kmnist/dataset/kmnist/kmnist-test-imgs.npz to kmnist/test_set\n",
      "downloading data from http://codh.rois.ac.jp/kmnist/dataset/kmnist/kmnist-train-labels.npz to kmnist/train_labels\n",
      "downloading data from http://codh.rois.ac.jp/kmnist/dataset/kmnist/kmnist-test-labels.npz to kmnist/test_labels\n"
     ]
    }
   ],
   "source": [
    "train_set, test_set, train_labels, test_labels = fetch_kmnist()"
   ]
  },
  {
   "cell_type": "markdown",
   "id": "5f739bab",
   "metadata": {},
   "source": [
    "### Data loaders\n",
    "Now we obtain the PyTorch dataloaders from the Numpy datasets (batch size = 256)"
   ]
  },
  {
   "cell_type": "code",
   "execution_count": 6,
   "id": "f7bf3e3d",
   "metadata": {},
   "outputs": [],
   "source": [
    "def create_data_loaders(batch_size = 256):\n",
    "    torch_train = torch.Tensor(train_set).view(-1, 1,28,28).float()\n",
    "    torch_test  = torch.Tensor(test_set).view(-1,1,28,28).float()\n",
    "\n",
    "    torch_train_set = TensorDataset(torch_train,torch.from_numpy(train_labels))\n",
    "    train_dataloader = DataLoader(torch_train_set, batch_size=batch_size, shuffle=False)\n",
    "\n",
    "    torch_test_set = TensorDataset(torch_test,torch.from_numpy(test_labels))\n",
    "    test_dataloader = DataLoader(torch_test_set, batch_size=batch_size, shuffle=False)\n",
    "    \n",
    "    return train_dataloader,test_dataloader\n",
    "\n",
    "train_dataloader,test_dataloader = create_data_loaders()"
   ]
  },
  {
   "cell_type": "markdown",
   "id": "c1d5c8ff",
   "metadata": {},
   "source": [
    "## Intrinsic dimension\n",
    "Using the daday package we compute the intrinsic dimension of the KMNIST dataset"
   ]
  },
  {
   "cell_type": "code",
   "execution_count": 7,
   "id": "2aad096a",
   "metadata": {},
   "outputs": [],
   "source": [
    "def compute_id_with_twoNN(dataset):\n",
    "    _data = data.Data(dataset.reshape(-1,28*28))\n",
    "    # estimate ID\n",
    "    id_twoNN, _, r = _data.compute_id_2NN()\n",
    "    return ceil(id_twoNN)\n",
    "\n",
    "id_twoNN = compute_id_with_twoNN(train_set)"
   ]
  },
  {
   "cell_type": "markdown",
   "id": "24102d60",
   "metadata": {},
   "source": [
    "## The autoencoder\n",
    "The autoencoder is now created.\n",
    "### The encoder\n",
    "The encoder is composed of:\n",
    "- Convolutional layer with 32 filters, kernel size=3, stride=1, padding=0\n",
    "- ReLU\n",
    "- Max pooling layer with kernel size=2\n",
    "- Convolutional layer with 64 filters, kernel size=3, stride=2, padding=1\n",
    "- ReLU\n",
    "- Max pooling layer with kernel size=2, stride=1\n",
    "- Flattening layer\n",
    "- Linear layer with input size=6x6x64, output size=intrinsic dimension\n",
    "\n",
    "### The decoder\n",
    "The decoder is composed of:\n",
    "- Linear layer with input size=intrinsic dimension, output size=64x8x8\n",
    "- ReLU\n",
    "- Unflattening layer to obtain [64x8x8] data\n",
    "- Transpose Convolution with 32 filters, kernel size=2, stride=2, padding=1\n",
    "- ReLU\n",
    "- Transpose Convolution with 1 filter, kernel size=2, stride=2, padding=0\n",
    "- Sigmoid\n"
   ]
  },
  {
   "cell_type": "code",
   "execution_count": 8,
   "id": "c2d08901",
   "metadata": {},
   "outputs": [],
   "source": [
    "class AE(torch.nn.Module):\n",
    "    def __init__(self):\n",
    "        super().__init__()\n",
    "        \n",
    "        self.encoder = torch.nn.Sequential(\n",
    "            torch.nn.Conv2d(in_channels = 1, out_channels = 32, kernel_size = 3, stride = 1, padding = 0),\n",
    "            torch.nn.ReLU(),\n",
    "            torch.nn.MaxPool2d(kernel_size = 2),\n",
    "            torch.nn.Conv2d(in_channels = 32, out_channels = 64, kernel_size = 3, stride = 2, padding = 1),\n",
    "            torch.nn.ReLU(),\n",
    "            torch.nn.MaxPool2d(kernel_size = 2, stride = 1),\n",
    "            torch.nn.Flatten(),\n",
    "            torch.nn.Linear(6*6*64, id_twoNN)\n",
    "        )\n",
    "    \n",
    "        self.decoder = torch.nn.Sequential(\n",
    "            torch.nn.Linear(id_twoNN, 64*8*8),\n",
    "            torch.nn.ReLU(),\n",
    "            torch.nn.Unflatten(1, torch.Size([64, 8, 8])),\n",
    "            torch.nn.ConvTranspose2d(in_channels = 64, out_channels = 32, kernel_size = 2, stride = 2, padding = 1),\n",
    "            torch.nn.ReLU(),\n",
    "            torch.nn.ConvTranspose2d(in_channels = 32, out_channels = 1, kernel_size = 2, stride = 2, padding = 0),\n",
    "            torch.nn.Sigmoid()\n",
    "        )\n",
    "    \n",
    "    def forward(self, x):\n",
    "        out = self.encoder(x)\n",
    "        out = self.decoder(out)\n",
    "        return out"
   ]
  },
  {
   "cell_type": "code",
   "execution_count": 9,
   "id": "da14e18e",
   "metadata": {},
   "outputs": [],
   "source": [
    "model = AE().to(device)"
   ]
  },
  {
   "cell_type": "markdown",
   "id": "d777502c",
   "metadata": {},
   "source": [
    "## Training the AE\n",
    "To train the AE,  we use the Adam algorithm as optimizer and MSE as loss function. We use 25 epochs and evaluate the MSE between the original data (x) with the output (x_hat)."
   ]
  },
  {
   "cell_type": "code",
   "execution_count": 10,
   "id": "62129e12",
   "metadata": {},
   "outputs": [],
   "source": [
    "optimizer = torch.optim.Adam(model.parameters(), lr = 1e-3)\n",
    "loss = torch.nn.MSELoss(reduction = 'sum')"
   ]
  },
  {
   "cell_type": "code",
   "execution_count": 11,
   "id": "7a0eeee4",
   "metadata": {},
   "outputs": [
    {
     "name": "stdout",
     "output_type": "stream",
     "text": [
      "Epoch 1 Training loss:73.23272707519531\n",
      "Epoch 2 Training loss:39.62174948730469\n",
      "Epoch 3 Training loss:34.01540504557292\n",
      "Epoch 4 Training loss:31.818325349934895\n",
      "Epoch 5 Training loss:30.398466984049477\n",
      "Epoch 6 Training loss:29.342406958007814\n",
      "Epoch 7 Training loss:28.50173935546875\n",
      "Epoch 8 Training loss:27.816355045572916\n",
      "Epoch 9 Training loss:27.24897490234375\n",
      "Epoch 10 Training loss:26.783941560872396\n",
      "Epoch 11 Training loss:26.40188654785156\n",
      "Epoch 12 Training loss:26.05096165364583\n",
      "Epoch 13 Training loss:25.749222204589845\n",
      "Epoch 14 Training loss:25.489631079101564\n",
      "Epoch 15 Training loss:25.262431306966146\n",
      "Epoch 16 Training loss:25.069186800130208\n",
      "Epoch 17 Training loss:24.871840987141926\n",
      "Epoch 18 Training loss:24.685092248535156\n",
      "Epoch 19 Training loss:24.5155900390625\n",
      "Epoch 20 Training loss:24.356142517089843\n",
      "Epoch 21 Training loss:24.21424315592448\n",
      "Epoch 22 Training loss:24.084693436686198\n",
      "Epoch 23 Training loss:23.96524951578776\n",
      "Epoch 24 Training loss:23.856514603678384\n",
      "Epoch 25 Training loss:23.75090060221354\n",
      "Test set loss:28.933876431274413\n"
     ]
    },
    {
     "data": {
      "image/png": "[encoded data removed]",
      "text/plain": [
       "<Figure size 432x288 with 1 Axes>"
      ]
     },
     "metadata": {
      "needs_background": "light"
     },
     "output_type": "display_data"
    }
   ],
   "source": [
    "epochs = 25\n",
    "losses = []\n",
    "for epoch in range(epochs):\n",
    "    model.train()\n",
    "    train_loss = 0\n",
    "    for x,_ in iter(train_dataloader):\n",
    "        x=x.to(device)\n",
    "        x_hat = model(x)\n",
    "        l = loss(x_hat,x)\n",
    "        train_loss += l.item()\n",
    "        optimizer.zero_grad()\n",
    "        l.backward()\n",
    "        optimizer.step()\n",
    "    losses.append(train_loss / (len(train_dataloader.dataset)))\n",
    "    print(\"Epoch \"+ str(epoch+1) + \" Training loss:\" + str(train_loss / (len(train_dataloader.dataset))))\n",
    "    \n",
    "with torch.no_grad():\n",
    "    model.eval()\n",
    "    test_loss=0 \n",
    "    for x,_ in iter(test_dataloader):\n",
    "            x=x.to(device)\n",
    "            x_hat=model(x)\n",
    "            l=loss(x_hat,x)\n",
    "            test_loss+=l.item()\n",
    "    test_loss /= len(test_dataloader.dataset)\n",
    "    print(\"Test set loss:\"+str(test_loss))\n",
    "\n",
    "plt.figure()\n",
    "plt.title(\"KMNIST average batch loss\")\n",
    "plt.plot(losses)\n",
    "plt.xlabel(\"Epoch\")\n",
    "_ = plt.ylabel(\"MSE Loss\")"
   ]
  },
  {
   "cell_type": "markdown",
   "id": "3df3fc85",
   "metadata": {},
   "source": [
    "## Results\n",
    "The intrinsic dimension computed seems to preserve the information contained in the original data. Let us see some outputs of the AE and compare them with the original image."
   ]
  },
  {
   "cell_type": "code",
   "execution_count": 12,
   "id": "f6b8544f",
   "metadata": {},
   "outputs": [],
   "source": [
    "def display_images(input, output):\n",
    "    if input is not None:\n",
    "        input_pics = input.data.cpu().numpy().transpose((0,2,3,1))\n",
    "        plt.figure(figsize=(18, 4))\n",
    "        for i in range(4):\n",
    "            plt.subplot(1,4,i+1)\n",
    "            plt.imshow(input_pics[i],cmap='gray')\n",
    "    plt.figure(figsize=(18, 4))\n",
    "    output_pics = output.data.cpu().numpy().transpose((0,2,3,1))\n",
    "    for i in range(4):\n",
    "        plt.subplot(1,4,i+1)\n",
    "        plt.imshow(output_pics[i],cmap='gray')"
   ]
  },
  {
   "cell_type": "code",
   "execution_count": 13,
   "id": "8333b948",
   "metadata": {},
   "outputs": [],
   "source": [
    "train_dataloader_view_only, test_dataloader_view_only = create_data_loaders(batch_size = 4)\n",
    "x_train = next(iter(train_dataloader_view_only))[0].to(device)\n",
    "x_test  = next(iter(test_dataloader_view_only))[0].to(device)"
   ]
  },
  {
   "cell_type": "markdown",
   "id": "14eef4ef",
   "metadata": {},
   "source": [
    "### Train images"
   ]
  },
  {
   "cell_type": "code",
   "execution_count": 14,
   "id": "415c0bb8",
   "metadata": {},
   "outputs": [
    {
     "data": {
      "image/png": "[encoded data removed]",
      "text/plain": [
       "<Figure size 1296x288 with 4 Axes>"
      ]
     },
     "metadata": {
      "needs_background": "light"
     },
     "output_type": "display_data"
    },
    {
     "data": {
      "image/png": "[encoded data removed]",
      "text/plain": [
       "<Figure size 1296x288 with 4 Axes>"
      ]
     },
     "metadata": {
      "needs_background": "light"
     },
     "output_type": "display_data"
    }
   ],
   "source": [
    "display_images(x_train,model(x_train))"
   ]
  },
  {
   "cell_type": "markdown",
   "id": "2766542a",
   "metadata": {},
   "source": [
    "### Test images"
   ]
  },
  {
   "cell_type": "code",
   "execution_count": 15,
   "id": "0242ea8f",
   "metadata": {},
   "outputs": [
    {
     "data": {
      "image/png": "[encoded data removed]",
      "text/plain": [
       "<Figure size 1296x288 with 4 Axes>"
      ]
     },
     "metadata": {
      "needs_background": "light"
     },
     "output_type": "display_data"
    },
    {
     "data": {
      "image/png": "[encoded data removed]",
      "text/plain": [
       "<Figure size 1296x288 with 4 Axes>"
      ]
     },
     "metadata": {
      "needs_background": "light"
     },
     "output_type": "display_data"
    }
   ],
   "source": [
    "display_images(x_test,model(x_test))"
   ]
  },
  {
   "cell_type": "markdown",
   "id": "4f14d3cc",
   "metadata": {},
   "source": [
    "## Assessment of the intrinsic dimension: a classifier\n",
    "We will now use a classifier to check the truthfulness of the dimension computed by twoNN. We will use the encoded data and see if we are still able to classify them into the 10 classes. If the intrinsic dimension is correct, we will be able to get a better accuracy than 0.1, which is random classification.\n",
    "\n",
    "### The classifier \n",
    "The classifier is composed of:\n",
    "- The encoder of the previuous AE; its parameters are freezed\n",
    "- A trainable fully connected layer with in_features=intrinsic dimension and out_features=10"
   ]
  },
  {
   "cell_type": "code",
   "execution_count": 16,
   "id": "948b462e",
   "metadata": {},
   "outputs": [],
   "source": [
    "class Classifier(torch.nn.Module):\n",
    "    \n",
    "    def __init__(self):\n",
    "        super().__init__()\n",
    "        self.layer1 = model.encoder\n",
    "        self.layer2 = torch.nn.Linear(in_features = id_twoNN, out_features = 10, bias = True)\n",
    "        self.activation = torch.nn.ReLU()\n",
    "        \n",
    "    def forward(self, x):\n",
    "        x = self.activation(self.layer1(x))\n",
    "        x = self.layer2(x)\n",
    "        return x"
   ]
  },
  {
   "cell_type": "code",
   "execution_count": 17,
   "id": "2eee1cdf",
   "metadata": {},
   "outputs": [],
   "source": [
    "classifier = Classifier().to(device)"
   ]
  },
  {
   "cell_type": "markdown",
   "id": "7ba4a024",
   "metadata": {},
   "source": [
    "### Freezing some parameters\n",
    "Let us now freeze the parameters of the encoder so that only the final classification layer is trained."
   ]
  },
  {
   "cell_type": "code",
   "execution_count": 18,
   "id": "756ce9ea",
   "metadata": {},
   "outputs": [],
   "source": [
    "for name,param in classifier.named_parameters():\n",
    "    param.requires_grad = False if \"layer1\" in name else True"
   ]
  },
  {
   "cell_type": "markdown",
   "id": "8e87bc29",
   "metadata": {},
   "source": [
    "### Training the classifier\n",
    "To train the classifier, we use the Adam algorithm as optimizer and Cross Entropy as loss function. We use 10 epochs and evaluate the accuracy between the original label (y) and the more probable class indicated by the classifier (out)."
   ]
  },
  {
   "cell_type": "code",
   "execution_count": 19,
   "id": "3d4eb736",
   "metadata": {},
   "outputs": [],
   "source": [
    "optimizer=torch.optim.Adam(filter(lambda p: p.requires_grad, classifier.parameters()), lr=1e-3)\n",
    "loss=torch.nn.CrossEntropyLoss()"
   ]
  },
  {
   "cell_type": "code",
   "execution_count": 20,
   "id": "48be8c83",
   "metadata": {},
   "outputs": [],
   "source": [
    "def get_accuracy(model, dataloader):\n",
    "    model.eval()\n",
    "    with torch.no_grad():\n",
    "        correct=0\n",
    "        for x, y in iter(dataloader):\n",
    "            x=x.to(device)\n",
    "            y=y.to(device)\n",
    "            out=model(x)\n",
    "            correct+=(torch.argmax(out, axis=1)==y).sum()\n",
    "        return round(float(correct/len(dataloader.dataset)),4)"
   ]
  },
  {
   "cell_type": "code",
   "execution_count": 21,
   "id": "4f74c18f",
   "metadata": {},
   "outputs": [
    {
     "name": "stdout",
     "output_type": "stream",
     "text": [
      "Test accuracy:  0.158\n",
      "Epoch:  0\n",
      "Test accuracy:  0.4583\n",
      "Epoch:  1\n",
      "Test accuracy:  0.562\n",
      "Epoch:  2\n",
      "Test accuracy:  0.5829\n",
      "Epoch:  3\n",
      "Test accuracy:  0.5913\n",
      "Epoch:  4\n",
      "Test accuracy:  0.5958\n",
      "Epoch:  5\n",
      "Test accuracy:  0.5993\n",
      "Epoch:  6\n",
      "Test accuracy:  0.601\n",
      "Epoch:  7\n",
      "Test accuracy:  0.6023\n",
      "Epoch:  8\n",
      "Test accuracy:  0.6026\n",
      "Epoch:  9\n",
      "Final accuracy:  0.6043\n"
     ]
    },
    {
     "data": {
      "image/png": "[encoded data removed]",
      "text/plain": [
       "<Figure size 432x288 with 1 Axes>"
      ]
     },
     "metadata": {
      "needs_background": "light"
     },
     "output_type": "display_data"
    }
   ],
   "source": [
    "epochs=10\n",
    "losses=[]\n",
    "for epoch in range(epochs):\n",
    "    print(\"Test accuracy: \", get_accuracy(classifier, test_dataloader))\n",
    "    classifier.train()\n",
    "    print(\"Epoch: \", epoch)\n",
    "    for x, y in iter(train_dataloader):\n",
    "        x=x.to(device)\n",
    "        y=y.to(device)\n",
    "        out=classifier(x)\n",
    "        l=loss(out, y)\n",
    "        optimizer.zero_grad()\n",
    "        l.backward()\n",
    "        optimizer.step()\n",
    "        losses.append(l.item())\n",
    "print(\"Final accuracy: \", get_accuracy(classifier, test_dataloader))\n",
    "\n",
    "plt.figure()\n",
    "plt.title(\"KMNIST batch loss\")\n",
    "plt.plot(losses)\n",
    "plt.xlabel(\"Optimization step\")\n",
    "_ = plt.ylabel(\"CE Loss\")"
   ]
  },
  {
   "cell_type": "markdown",
   "id": "56cbdfb3",
   "metadata": {},
   "source": [
    "## Conclusions\n",
    "We are able to obtain an accuracy of 0.6 on the test set, which is far above than random classification. Even though the results are not perfect, we can conclude that the representation learned by the encoder using the intrinsic dimension is correct and preserves quite well the information."
   ]
  }
 ],
 "metadata": {
  "kernelspec": {
   "display_name": "Python 3 (ipykernel)",
   "language": "python",
   "name": "python3"
  },
  "language_info": {
   "codemirror_mode": {
    "name": "ipython",
    "version": 3
   },
   "file_extension": ".py",
   "mimetype": "text/x-python",
   "name": "python",
   "nbconvert_exporter": "python",
   "pygments_lexer": "ipython3",
   "version": "3.10.6"
  }
 },
 "nbformat": 4,
 "nbformat_minor": 5
}
