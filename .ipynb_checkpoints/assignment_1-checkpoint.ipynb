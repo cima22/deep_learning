{
 "cells": [
  {
   "cell_type": "markdown",
   "id": "6eebe547",
   "metadata": {},
   "source": [
    "# Assignment 1\n",
    "The purpose of this assignment is to reproduce the following experiment: train a neural network which takes in input a binary vector of 6 digits and detects if the vector is symmetric in respect to the center or not. This notebook is composed as follows:\n",
    "- Generation of the dataset\n",
    "- Generation of the neural network\n",
    "- Definition the parameters\n",
    "- Training the network\n",
    "- Analysis\n",
    "- Possible improvements"
   ]
  },
  {
   "cell_type": "code",
   "execution_count": 1,
   "id": "41e74382",
   "metadata": {},
   "outputs": [],
   "source": [
    "import torch\n",
    "import itertools\n",
    "import matplotlib.pyplot as plt"
   ]
  },
  {
   "cell_type": "markdown",
   "id": "364603df",
   "metadata": {},
   "source": [
    "## Generation of the dataset\n",
    "The dataset is composed of the 64 possible vectors, labelled 1 if the vector is symmetric and 0 otherwise. "
   ]
  },
  {
   "cell_type": "code",
   "execution_count": 2,
   "id": "b051f0a5",
   "metadata": {},
   "outputs": [],
   "source": [
    "def calculate_label_of_vector(x):\n",
    "    \"\"\"Returns the label of a vector.\"\"\"\n",
    "    return 1 if x[2] == x[3] and x[1] == x[4] and x[0] == x[5] else 0"
   ]
  },
  {
   "cell_type": "code",
   "execution_count": 3,
   "id": "523a8f69",
   "metadata": {},
   "outputs": [],
   "source": [
    "def build_dataset():\n",
    "    \"\"\"Builds the dataset.\"\"\"\n",
    "    X = torch.tensor(list(itertools.product([0,1],repeat=6)),dtype=torch.float32)\n",
    "    Y = torch.tensor([calculate_label_of_vector(x) for x in X], dtype=torch.float32)\n",
    "    return X,Y\n",
    "\n",
    "X,Y = build_dataset()"
   ]
  },
  {
   "cell_type": "markdown",
   "id": "aae8db6a",
   "metadata": {},
   "source": [
    "## Generation of the neural network\n",
    "The network has been built as specified in the paper:\n",
    "- 6 input nodes\n",
    "- 1 hidden layer with 2 nodes\n",
    "- 1 output node\n",
    "\n",
    "The non-linearity in every connection and in the output is obtained using a sigmoid. Moreover, every weight and bias has been initialized uniformally between -0.3 and 0.3."
   ]
  },
  {
   "cell_type": "code",
   "execution_count": 4,
   "id": "ff2bdf0e",
   "metadata": {},
   "outputs": [],
   "source": [
    "class BinaryCLassifier(torch.nn.Module):\n",
    "    \"\"\"Builds the network as specified: \n",
    "        - 6 input nodes\n",
    "        - 1 hidden layer with 2 nodes\n",
    "        - 1 output node\n",
    "        The non-linearity in every connection and in the output is obtained using a sigmoid.\"\"\"\n",
    "    \n",
    "    def __init__(self):\n",
    "        super().__init__()\n",
    "        self.layer1 = torch.nn.Linear(in_features = 6, out_features = 2, bias = True)\n",
    "        self.layer2 = torch.nn.Linear(in_features = 2, out_features = 1, bias = True)\n",
    "        self.activation = torch.nn.Sigmoid()\n",
    "        self.apply(self._init_weights)\n",
    "        \n",
    "    def _init_weights(self, module):\n",
    "        \"\"\"Initializes weights and biases uniformally between -0.3 and 0.3\"\"\"\n",
    "        if isinstance(module, torch.nn.Linear):\n",
    "            module.weight.data.uniform_(-0.3, 0.3)\n",
    "            module.bias.data.uniform_(-0.3, 0.3)\n",
    "    \n",
    "    def forward(self,x):\n",
    "        x = self.activation(self.layer1(x))\n",
    "        x = self.activation(self.layer2(x))\n",
    "        return x\n",
    "    \n",
    "model = BinaryCLassifier()"
   ]
  },
  {
   "cell_type": "code",
   "execution_count": 5,
   "id": "3c36916e",
   "metadata": {},
   "outputs": [],
   "source": [
    "def calculate_accuracy(model, X, Y):\n",
    "    \"\"\"Evaluates the accuracy based on the entire dataset\"\"\"\n",
    "    model.eval()\n",
    "    with torch.no_grad():\n",
    "        correct = 0\n",
    "        out = model(X).reshape(64)\n",
    "        correct += (abs(out - Y) < 0.5).int().sum()\n",
    "        return float(correct/len(X))"
   ]
  },
  {
   "cell_type": "markdown",
   "id": "9f3bb202",
   "metadata": {},
   "source": [
    "## Definition the parameters\n",
    "To train the model there has been used:\n",
    "- Stochastic Gradient Descent with a constant learning rate of 0.1 and a momentum of 0.9\n",
    "- Mean Squared Error as loss function"
   ]
  },
  {
   "cell_type": "code",
   "execution_count": 6,
   "id": "690ef201",
   "metadata": {},
   "outputs": [],
   "source": [
    "optimizer = torch.optim.SGD(model.parameters(), lr = 0.1, momentum = 0.9)\n",
    "\n",
    "loss = torch.nn.MSELoss()"
   ]
  },
  {
   "cell_type": "markdown",
   "id": "0715627a",
   "metadata": {},
   "source": [
    "## Training the network\n",
    "As specified in the paper, the entire dataset has been swept 1425 times and for every sweep the weights and biases has been updated according to the descent."
   ]
  },
  {
   "cell_type": "code",
   "execution_count": 7,
   "id": "6c96c4b7",
   "metadata": {
    "scrolled": true
   },
   "outputs": [
    {
     "name": "stdout",
     "output_type": "stream",
     "text": [
      "Final accuracy:  0.875\n"
     ]
    },
    {
     "data": {
      "image/png": "[encoded data removed]",
      "text/plain": [
       "<Figure size 432x288 with 1 Axes>"
      ]
     },
     "metadata": {
      "needs_background": "light"
     },
     "output_type": "display_data"
    }
   ],
   "source": [
    "epochs = 1425\n",
    "losses = []\n",
    "for epoch in range(epochs):\n",
    "    model.train()\n",
    "    out = model(X).reshape(64)\n",
    "    l = loss(out, Y)\n",
    "    optimizer.zero_grad()\n",
    "    l.backward()\n",
    "    optimizer.step()\n",
    "    losses.append(l.item())\n",
    "    \n",
    "print(\"Final accuracy: \", calculate_accuracy(model, X, Y))\n",
    "\n",
    "plt.figure()\n",
    "plt.title(\"Dataset loss\")\n",
    "plt.plot(losses)\n",
    "plt.xlabel(\"Optimization step\")\n",
    "_ = plt.ylabel(\"MSE Loss\")"
   ]
  },
  {
   "cell_type": "markdown",
   "id": "451cda73",
   "metadata": {},
   "source": [
    "### Weigths and biases obtained"
   ]
  },
  {
   "cell_type": "code",
   "execution_count": 8,
   "id": "a0b28c0e",
   "metadata": {},
   "outputs": [
    {
     "name": "stdout",
     "output_type": "stream",
     "text": [
      "layer1.weight:\n",
      "\t tensor([ 0.0824, -0.1075,  0.2577,  0.3316,  0.0528, -0.0193])\n",
      "\t tensor([ 0.2730,  0.0862,  0.3192,  0.2130, -0.1792,  0.3206])\n",
      "\n",
      "layer1.bias:\n",
      "\t tensor(0.0430)\n",
      "\t tensor(0.1086)\n",
      "\n",
      "layer2.weight:\n",
      "\t tensor([-0.8553, -0.6961])\n",
      "\n",
      "layer2.bias:\n",
      "\t tensor(-1.0021)\n",
      "\n"
     ]
    }
   ],
   "source": [
    "for name, param in model.named_parameters():\n",
    "    if param.requires_grad:\n",
    "        print(name,\":\",sep=\"\")\n",
    "        for value in param.data:\n",
    "            print(\"\\t\",value)\n",
    "        print()"
   ]
  },
  {
   "cell_type": "markdown",
   "id": "2b837ca6",
   "metadata": {},
   "source": [
    "## Analysis\n",
    "The obtained results were very disappointing, since no symmetric vector has been detected. The final accuracy is $\\frac{56}{64} = 0.875$, so every non-symmetric vector is correctly classified, but none of the 8 symmetric vectors are correctly classified."
   ]
  },
  {
   "cell_type": "code",
   "execution_count": 9,
   "id": "7fb39d98",
   "metadata": {},
   "outputs": [
    {
     "name": "stdout",
     "output_type": "stream",
     "text": [
      "Number of vectors classified as non-symmetric: 64\n"
     ]
    }
   ],
   "source": [
    "number_of_non_symmetric = int((out < 0.5).float().sum())\n",
    "print(\"Number of vectors classified as non-symmetric:\", number_of_non_symmetric)"
   ]
  },
  {
   "cell_type": "markdown",
   "id": "f541c81d",
   "metadata": {},
   "source": [
    "The learning procedure has not found the weights and biases as in the paper, so the neural network is not capable of detecting symmetry in binary vectors, even though the same procedure has been followed. Maybe with some improvements the network will be able to detect the symmetric vectors."
   ]
  },
  {
   "cell_type": "markdown",
   "id": "fd4d5d3b",
   "metadata": {},
   "source": [
    "## Possible improvements\n",
    "The proposed improvements are:\n",
    "- Change the optimizer algotirthm to \"Adam\" to smoothen the descent to the minimum and regularise the parameters\n",
    "- Use a scheduler to use a dynamic learning rate so to descend \"slower\" near the minimum\n",
    "- Change the loss function to the Binary Cross Entropy, which is better suited for binary classification than the MSE"
   ]
  },
  {
   "cell_type": "code",
   "execution_count": 10,
   "id": "77e684da",
   "metadata": {},
   "outputs": [],
   "source": [
    "model = BinaryCLassifier()\n",
    "\n",
    "optimizer = torch.optim.Adam(model.parameters(), lr=0.1, betas=(0.9, 0.999))\n",
    "scheduler = torch.optim.lr_scheduler.ExponentialLR(optimizer, gamma=0.9)\n",
    "loss = torch.nn.BCELoss()"
   ]
  },
  {
   "cell_type": "code",
   "execution_count": 11,
   "id": "a9699de6",
   "metadata": {},
   "outputs": [
    {
     "name": "stdout",
     "output_type": "stream",
     "text": [
      "Final accuracy:  0.875\n"
     ]
    },
    {
     "data": {
      "image/png": "[encoded data removed]",
      "text/plain": [
       "<Figure size 432x288 with 1 Axes>"
      ]
     },
     "metadata": {
      "needs_background": "light"
     },
     "output_type": "display_data"
    }
   ],
   "source": [
    "epochs = 1425\n",
    "losses = []\n",
    "for epoch in range(epochs):\n",
    "    model.train()\n",
    "    out = model(X).reshape(64)\n",
    "    l = loss(out, Y)\n",
    "    optimizer.zero_grad()\n",
    "    l.backward()\n",
    "    optimizer.step()\n",
    "    scheduler.step()\n",
    "    losses.append(l.item())\n",
    "    \n",
    "print(\"Final accuracy: \", calculate_accuracy(model, X, Y))\n",
    "\n",
    "plt.figure()\n",
    "plt.title(\"Dataset loss\")\n",
    "plt.plot(losses)\n",
    "plt.xlabel(\"Optimization step\")\n",
    "_ = plt.ylabel(\"BCE Loss\")"
   ]
  },
  {
   "cell_type": "code",
   "execution_count": 12,
   "id": "f660c1ad",
   "metadata": {},
   "outputs": [
    {
     "name": "stdout",
     "output_type": "stream",
     "text": [
      "layer1.weight:\n",
      "\t tensor([0.7992, 0.6254, 0.6465, 0.8882, 0.4864, 0.5978])\n",
      "\t tensor([ 0.0718, -0.0804,  0.1522,  0.2408,  0.1084,  0.1703])\n",
      "\n",
      "layer1.bias:\n",
      "\t tensor(0.8724)\n",
      "\t tensor(0.0335)\n",
      "\n",
      "layer2.weight:\n",
      "\t tensor([-0.8608, -0.6364])\n",
      "\n",
      "layer2.bias:\n",
      "\t tensor(-0.6623)\n",
      "\n"
     ]
    }
   ],
   "source": [
    "for name, param in model.named_parameters():\n",
    "    if param.requires_grad:\n",
    "        print(name,\":\",sep=\"\")\n",
    "        for value in param.data:\n",
    "            print(\"\\t\",value)\n",
    "        print()"
   ]
  },
  {
   "cell_type": "markdown",
   "id": "6bd1ed73",
   "metadata": {},
   "source": [
    "### Analysis"
   ]
  },
  {
   "cell_type": "code",
   "execution_count": 13,
   "id": "b1a4fed9",
   "metadata": {},
   "outputs": [
    {
     "name": "stdout",
     "output_type": "stream",
     "text": [
      "Number of vectors classified as non-symmetric: 64\n"
     ]
    }
   ],
   "source": [
    "number_of_non_symmetric = int((out < 0.5).float().sum())\n",
    "print(\"Number of vectors classified as non-symmetric:\", number_of_non_symmetric)"
   ]
  },
  {
   "cell_type": "markdown",
   "id": "2e1050ef",
   "metadata": {},
   "source": [
    "Even though there have been used several improvements, the network is still useless for our goal. Some explenations might be:\n",
    "- The small imbalanced dataset\n",
    "- Not enough nodes in the hidden layer"
   ]
  }
 ],
 "metadata": {
  "kernelspec": {
   "display_name": "Python 3 (ipykernel)",
   "language": "python",
   "name": "python3"
  },
  "language_info": {
   "codemirror_mode": {
    "name": "ipython",
    "version": 3
   },
   "file_extension": ".py",
   "mimetype": "text/x-python",
   "name": "python",
   "nbconvert_exporter": "python",
   "pygments_lexer": "ipython3",
   "version": "3.10.6"
  }
 },
 "nbformat": 4,
 "nbformat_minor": 5
}
