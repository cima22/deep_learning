{
 "cells": [
  {
   "cell_type": "code",
   "execution_count": 1,
   "id": "41e74382",
   "metadata": {},
   "outputs": [],
   "source": [
    "import torch\n",
    "import itertools\n",
    "import matplotlib.pyplot as plt"
   ]
  },
  {
   "cell_type": "code",
   "execution_count": 2,
   "id": "b051f0a5",
   "metadata": {},
   "outputs": [],
   "source": [
    "def is_symm(x):\n",
    "    return 1 if x[2] == x[3] and x[1] == x[4] and x[0] == x[5] else 0"
   ]
  },
  {
   "cell_type": "code",
   "execution_count": 3,
   "id": "523a8f69",
   "metadata": {},
   "outputs": [],
   "source": [
    "def build_dataset():\n",
    "    X = torch.tensor(list(itertools.product([0,1],repeat=6)),dtype=torch.float32)\n",
    "    Y = torch.tensor([is_symm(x) for x in X], dtype=torch.float32)\n",
    "    return X,Y\n",
    "X,Y = build_dataset()"
   ]
  },
  {
   "cell_type": "code",
   "execution_count": 4,
   "id": "ff2bdf0e",
   "metadata": {},
   "outputs": [],
   "source": [
    "class BinaryCLassifier(torch.nn.Module):\n",
    "    def __init__(self):\n",
    "        super().__init__()\n",
    "        self.layer1 = torch.nn.Linear(in_features = 6, out_features = 2, bias = True)\n",
    "        self.layer2 = torch.nn.Linear(in_features = 2, out_features = 1, bias = True)\n",
    "        self.activation = torch.nn.Sigmoid()\n",
    "        self.apply(self._init_weights)\n",
    "        \n",
    "    def _init_weights(self, module):\n",
    "        if isinstance(module, torch.nn.Linear):\n",
    "            module.weight.data.uniform_(-0.3, 0.3)\n",
    "            module.bias.data.uniform_(-0.3, 0.3)\n",
    "    \n",
    "    def forward(self,x):\n",
    "        x = self.activation(self.layer1(x))\n",
    "        x = self.activation(self.layer2(x))\n",
    "        return x\n",
    "    \n",
    "model = BinaryCLassifier()"
   ]
  },
  {
   "cell_type": "code",
   "execution_count": 5,
   "id": "3c36916e",
   "metadata": {},
   "outputs": [],
   "source": [
    "def get_accuracy(model, X, Y):\n",
    "    model.eval()\n",
    "    with torch.no_grad():\n",
    "        correct=0\n",
    "        out=model(X)\n",
    "        correct+=(out == Y).float().sum()\n",
    "        return correct/len(X)"
   ]
  },
  {
   "cell_type": "code",
   "execution_count": 6,
   "id": "690ef201",
   "metadata": {},
   "outputs": [],
   "source": [
    "#optimizer = torch.optim.SGD(model.parameters(), lr=1e-1, momentum=0.9)\n",
    "optimizer = torch.optim.Adam(model.parameters(), lr=1e-1, betas=(0.9, 0.999))\n",
    "scheduler = torch.optim.lr_scheduler.ExponentialLR(optimizer, gamma=0.9)\n",
    "#loss=torch.nn.MSELoss()\n",
    "loss=torch.nn.BCELoss()"
   ]
  },
  {
   "cell_type": "code",
   "execution_count": 7,
   "id": "6c96c4b7",
   "metadata": {
    "scrolled": true
   },
   "outputs": [
    {
     "name": "stdout",
     "output_type": "stream",
     "text": [
      "Final accuracy:  tensor(0.)\n",
      "tensor([[0.1379],\n",
      "        [0.1243],\n",
      "        [0.1250],\n",
      "        [0.1167],\n",
      "        [0.1290],\n",
      "        [0.1198],\n",
      "        [0.1208],\n",
      "        [0.1159],\n",
      "        [0.1253],\n",
      "        [0.1160],\n",
      "        [0.1172],\n",
      "        [0.1123],\n",
      "        [0.1204],\n",
      "        [0.1149],\n",
      "        [0.1162],\n",
      "        [0.1135],\n",
      "        [0.1175],\n",
      "        [0.1106],\n",
      "        [0.1120],\n",
      "        [0.1087],\n",
      "        [0.1149],\n",
      "        [0.1110],\n",
      "        [0.1126],\n",
      "        [0.1110],\n",
      "        [0.1110],\n",
      "        [0.1071],\n",
      "        [0.1088],\n",
      "        [0.1072],\n",
      "        [0.1112],\n",
      "        [0.1093],\n",
      "        [0.1111],\n",
      "        [0.1105],\n",
      "        [0.1278],\n",
      "        [0.1186],\n",
      "        [0.1197],\n",
      "        [0.1148],\n",
      "        [0.1228],\n",
      "        [0.1172],\n",
      "        [0.1183],\n",
      "        [0.1156],\n",
      "        [0.1192],\n",
      "        [0.1137],\n",
      "        [0.1151],\n",
      "        [0.1125],\n",
      "        [0.1175],\n",
      "        [0.1145],\n",
      "        [0.1157],\n",
      "        [0.1144],\n",
      "        [0.1137],\n",
      "        [0.1098],\n",
      "        [0.1115],\n",
      "        [0.1099],\n",
      "        [0.1138],\n",
      "        [0.1118],\n",
      "        [0.1134],\n",
      "        [0.1127],\n",
      "        [0.1100],\n",
      "        [0.1081],\n",
      "        [0.1099],\n",
      "        [0.1094],\n",
      "        [0.1119],\n",
      "        [0.1111],\n",
      "        [0.1127],\n",
      "        [0.1126]], grad_fn=<SigmoidBackward0>)\n"
     ]
    },
    {
     "data": {
      "image/png": "[encoded data removed]",
      "text/plain": [
       "<Figure size 432x288 with 1 Axes>"
      ]
     },
     "metadata": {
      "needs_background": "light"
     },
     "output_type": "display_data"
    }
   ],
   "source": [
    "epochs=1425\n",
    "losses=[]\n",
    "for epoch in range(epochs):\n",
    "    model.train()\n",
    "    out=model(X).reshape(64)\n",
    "    l=loss(out, Y)\n",
    "    optimizer.zero_grad()\n",
    "    l.backward()\n",
    "    optimizer.step()\n",
    "    scheduler.step()\n",
    "    losses.append(l.item())\n",
    "print(\"Final accuracy: \", get_accuracy(model, X, Y))\n",
    "\n",
    "plt.figure()\n",
    "plt.title(\"batch loss\")\n",
    "plt.plot(losses)\n",
    "plt.xlabel(\"Optimization step\")\n",
    "plt.ylabel(\"CE Loss\")\n",
    "print(model(X))"
   ]
  },
  {
   "cell_type": "code",
   "execution_count": 8,
   "id": "a0b28c0e",
   "metadata": {},
   "outputs": [
    {
     "name": "stdout",
     "output_type": "stream",
     "text": [
      "layer1.weight tensor([[-0.4092,  0.0316, -0.1113, -0.5394, -0.3603, -0.1302],\n",
      "        [ 0.5975,  0.8609,  0.5474,  0.6134,  0.7045,  0.6034]])\n",
      "layer1.bias tensor([0.0354, 0.5674])\n",
      "layer2.weight tensor([[-0.4442, -1.0684]])\n",
      "layer2.bias tensor([-0.9254])\n"
     ]
    }
   ],
   "source": [
    "for name, param in model.named_parameters():\n",
    "    if param.requires_grad:\n",
    "        print(name, param.data)"
   ]
  }
 ],
 "metadata": {
  "kernelspec": {
   "display_name": "Python 3",
   "language": "python",
   "name": "python3"
  },
  "language_info": {
   "codemirror_mode": {
    "name": "ipython",
    "version": 3
   },
   "file_extension": ".py",
   "mimetype": "text/x-python",
   "name": "python",
   "nbconvert_exporter": "python",
   "pygments_lexer": "ipython3",
   "version": "3.8.8"
  }
 },
 "nbformat": 4,
 "nbformat_minor": 5
}
