{
 "cells": [
  {
   "cell_type": "markdown",
   "id": "6eebe547",
   "metadata": {},
   "source": [
    "# Assignment 1\n",
    "The purpose of this assignment is to reproduce the following experiment: train a neural network which takes in input a binary vector of 6 digits and detects if the vector is symmetric in respect to the center or not. The neural network must have one hidden layer with two nodes."
   ]
  },
  {
   "cell_type": "code",
   "execution_count": 1,
   "id": "41e74382",
   "metadata": {},
   "outputs": [],
   "source": [
    "import torch\n",
    "import itertools\n",
    "import matplotlib.pyplot as plt"
   ]
  },
  {
   "cell_type": "markdown",
   "id": "364603df",
   "metadata": {},
   "source": [
    "## Generation of the dataset\n",
    "The dataset is composed of the 64 possible vectors, labelled 1 if the vector is symmetric and 0 otherwise. "
   ]
  },
  {
   "cell_type": "code",
   "execution_count": 2,
   "id": "b051f0a5",
   "metadata": {},
   "outputs": [],
   "source": [
    "def label_of_vector(x):\n",
    "    \"\"\"Returns the label of a vector.\"\"\"\n",
    "    return 1 if x[2] == x[3] and x[1] == x[4] and x[0] == x[5] else 0"
   ]
  },
  {
   "cell_type": "code",
   "execution_count": 3,
   "id": "523a8f69",
   "metadata": {},
   "outputs": [],
   "source": [
    "def build_dataset():\n",
    "    \"\"\"Builds the dataset\"\"\"\n",
    "    X = torch.tensor(list(itertools.product([0,1],repeat=6)),dtype=torch.float32)\n",
    "    Y = torch.tensor([label_of_vector(x) for x in X], dtype=torch.float32)\n",
    "    return X,Y\n",
    "\n",
    "X,Y = build_dataset()"
   ]
  },
  {
   "cell_type": "markdown",
   "id": "aae8db6a",
   "metadata": {},
   "source": [
    "## Generation of the neural network\n",
    "The network has been built as specified in the paper:\n",
    "- 6 input nodes\n",
    "- 1 hidden layer with 2 nodes\n",
    "- 1 output node\n",
    "\n",
    "The non-linearity in every connection and in the output is obtained using a sigmoid. Moreover, every weight and bias has been initialized uniformally between -0.3 and 0.3."
   ]
  },
  {
   "cell_type": "code",
   "execution_count": 4,
   "id": "ff2bdf0e",
   "metadata": {},
   "outputs": [],
   "source": [
    "class BinaryCLassifier(torch.nn.Module):\n",
    "    \"\"\"Builds the network as specified: \n",
    "        - 6 input nodes\n",
    "        - 1 hidden layer with 2 nodes\n",
    "        - 1 output node\n",
    "        The non-linearity in every connection and in the output is obtained using a sigmoid.\"\"\"\n",
    "    \n",
    "    def __init__(self):\n",
    "        super().__init__()\n",
    "        self.layer1 = torch.nn.Linear(in_features = 6, out_features = 2, bias = True)\n",
    "        self.layer2 = torch.nn.Linear(in_features = 2, out_features = 1, bias = True)\n",
    "        self.activation = torch.nn.Sigmoid()\n",
    "        self.apply(self._init_weights)\n",
    "        \n",
    "    def _init_weights(self, module):\n",
    "        \"\"\"Initializes weights and biases uniformally between -0.3 and 0.3\"\"\"\n",
    "        if isinstance(module, torch.nn.Linear):\n",
    "            module.weight.data.uniform_(-0.3, 0.3)\n",
    "            module.bias.data.uniform_(-0.3, 0.3)\n",
    "    \n",
    "    def forward(self,x):\n",
    "        x = self.activation(self.layer1(x))\n",
    "        x = self.activation(self.layer2(x))\n",
    "        return x\n",
    "    \n",
    "model = BinaryCLassifier()"
   ]
  },
  {
   "cell_type": "code",
   "execution_count": 5,
   "id": "3c36916e",
   "metadata": {},
   "outputs": [],
   "source": [
    "def calculate_accuracy(model, X, Y):\n",
    "    \"\"\"Evaluates the accuracy based on the entire dataset\"\"\"\n",
    "    model.eval()\n",
    "    with torch.no_grad():\n",
    "        correct=0\n",
    "        out=model(X)\n",
    "        correct+=(out == Y).float().sum()\n",
    "        return float(correct/len(X))"
   ]
  },
  {
   "cell_type": "markdown",
   "id": "9f3bb202",
   "metadata": {},
   "source": [
    "## Defining the parameters\n",
    "To train the model there has been used:\n",
    "- Stochastic Gradient Descent with a constant learning rate of 0.1 and a momentum of 0.9\n",
    "- Mean Squared Error as loss function"
   ]
  },
  {
   "cell_type": "code",
   "execution_count": 6,
   "id": "690ef201",
   "metadata": {},
   "outputs": [],
   "source": [
    "optimizer = torch.optim.SGD(model.parameters(), lr=1e-1, momentum=0.9)\n",
    "\n",
    "loss=torch.nn.MSELoss()"
   ]
  },
  {
   "cell_type": "markdown",
   "id": "0715627a",
   "metadata": {},
   "source": [
    "## Training the network\n",
    "As specified in the paper, the entire dataset has been swept 1425 times and for every sweep the weights and biases has been updated according to the descent."
   ]
  },
  {
   "cell_type": "code",
   "execution_count": 7,
   "id": "6c96c4b7",
   "metadata": {
    "scrolled": true
   },
   "outputs": [
    {
     "name": "stdout",
     "output_type": "stream",
     "text": [
      "Final accuracy:  0.0\n"
     ]
    },
    {
     "data": {
      "text/plain": [
       "Text(0, 0.5, 'MSE Loss')"
      ]
     },
     "execution_count": 7,
     "metadata": {},
     "output_type": "execute_result"
    },
    {
     "data": {
      "image/png": "[encoded data removed]",
      "text/plain": [
       "<Figure size 432x288 with 1 Axes>"
      ]
     },
     "metadata": {
      "needs_background": "light"
     },
     "output_type": "display_data"
    }
   ],
   "source": [
    "epochs=1425\n",
    "losses=[]\n",
    "for epoch in range(epochs):\n",
    "    model.train()\n",
    "    out=model(X).reshape(64)\n",
    "    l=loss(out, Y)\n",
    "    optimizer.zero_grad()\n",
    "    l.backward()\n",
    "    optimizer.step()\n",
    "    losses.append(l.item())\n",
    "print(\"Final accuracy: \", calculate_accuracy(model, X, Y))\n",
    "\n",
    "plt.figure()\n",
    "plt.title(\"batch loss\")\n",
    "plt.plot(losses)\n",
    "plt.xlabel(\"Optimization step\")\n",
    "plt.ylabel(\"MSE Loss\")"
   ]
  },
  {
   "cell_type": "code",
   "execution_count": 15,
   "id": "a0b28c0e",
   "metadata": {},
   "outputs": [
    {
     "name": "stdout",
     "output_type": "stream",
     "text": [
      "layer1.weight:\n",
      "\t tensor([-0.1711, -0.1388,  0.1004, -0.2889, -0.2574,  0.1377])\n",
      "\t tensor([ 0.0574,  0.2708, -0.1026, -0.1322,  0.2342,  0.1782])\n",
      "layer1.bias:\n",
      "\t tensor(-0.3047)\n",
      "\t tensor(-0.0884)\n",
      "layer2.weight:\n",
      "\t tensor([-0.3840, -0.7968])\n",
      "layer2.bias:\n",
      "\t tensor(-1.3817)\n"
     ]
    }
   ],
   "source": [
    "for name, param in model.named_parameters():\n",
    "    if param.requires_grad:\n",
    "        print(name,\":\",sep=\"\")\n",
    "        for value in param.data:\n",
    "            print(\"\\t\",value)"
   ]
  },
  {
   "cell_type": "markdown",
   "id": "fd4d5d3b",
   "metadata": {},
   "source": [
    "## Possible improvements"
   ]
  },
  {
   "cell_type": "code",
   "execution_count": 9,
   "id": "77e684da",
   "metadata": {},
   "outputs": [],
   "source": [
    "optimizer = torch.optim.Adam(model.parameters(), lr=1e-1, betas=(0.9, 0.999))\n",
    "scheduler = torch.optim.lr_scheduler.ExponentialLR(optimizer, gamma=0.9)\n",
    "loss=torch.nn.BCELoss()"
   ]
  },
  {
   "cell_type": "code",
   "execution_count": 10,
   "id": "f660c1ad",
   "metadata": {},
   "outputs": [
    {
     "name": "stderr",
     "output_type": "stream",
     "text": [
      "/home/gabri/.local/lib/python3.10/site-packages/torch/optim/lr_scheduler.py:138: UserWarning: Detected call of `lr_scheduler.step()` before `optimizer.step()`. In PyTorch 1.1.0 and later, you should call them in the opposite order: `optimizer.step()` before `lr_scheduler.step()`.  Failure to do this will result in PyTorch skipping the first value of the learning rate schedule. See more details at https://pytorch.org/docs/stable/optim.html#how-to-adjust-learning-rate\n",
      "  warnings.warn(\"Detected call of `lr_scheduler.step()` before `optimizer.step()`. \"\n"
     ]
    }
   ],
   "source": [
    "scheduler.step()"
   ]
  }
 ],
 "metadata": {
  "kernelspec": {
   "display_name": "Python 3 (ipykernel)",
   "language": "python",
   "name": "python3"
  },
  "language_info": {
   "codemirror_mode": {
    "name": "ipython",
    "version": 3
   },
   "file_extension": ".py",
   "mimetype": "text/x-python",
   "name": "python",
   "nbconvert_exporter": "python",
   "pygments_lexer": "ipython3",
   "version": "3.10.6"
  }
 },
 "nbformat": 4,
 "nbformat_minor": 5
}
