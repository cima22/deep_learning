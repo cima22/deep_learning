{
  "cells": [
    {
      "cell_type": "markdown",
      "metadata": {
        "id": "pKt5sLQO9zgn"
      },
      "source": [
        "# Lab 7"
      ]
    },
    {
      "cell_type": "code",
      "execution_count": 82,
      "metadata": {
        "id": "0Jo434asKrS0"
      },
      "outputs": [],
      "source": [
        "import torch\n",
        "import torchvision\n",
        "\n",
        "device = torch.device(\"cuda\" if torch.cuda.is_available() else \"cpu\")"
      ]
    },
    {
      "cell_type": "markdown",
      "metadata": {
        "id": "kfbM76wz9_kg"
      },
      "source": [
        "# The Forward Forward algorithm\n",
        "\n",
        "The [Forward Forward algorithm](https://www.cs.toronto.edu/~hinton/FFA13.pdf) has been presented by Geoffrey Hinton (one of the \"Deep Learning godfathers\") at NeurIPS 2022, less than a month ago.\n",
        "\n",
        "It is a novel technique for Neural Network optimization, alternative to standard Backpropagation."
      ]
    },
    {
      "cell_type": "markdown",
      "metadata": {
        "id": "ztmvsf2WB94X"
      },
      "source": [
        "## An alternative to Backpropagation\n",
        "\n",
        "Over the last decades, backprop has been so successful that neuroscientists have been looking for proofs that the brain actually learns in a similar way. However, that does not seem to happen. Moreover, backprop encounters serious limitations if the model is not exactly defined in mathematical terms: if the forward pass is a black box, there is no possibility to make a backward pass (as we don't know what to differentiate).\n",
        "\n",
        "Even if (for the moment) it was not presented with the goal of substituting backprop for practical applications, the Forward Forward algorithm aims at solving some of these problems, using a layer-by-layer learning approach that does not require backward propagation of gradients."
      ]
    },
    {
      "cell_type": "markdown",
      "metadata": {
        "id": "-42jTD10GapS"
      },
      "source": [
        "## MNIST classification through FF\n",
        "\n",
        "Let's see how FF works through a practical example on MNIST classification.\n",
        "\n",
        "Citing the paper,  \"the idea is to replace the forward and backward passes of backpropagation by two forward\n",
        "passes that operate in exactly the same way as each other, but on different data and with opposite\n",
        "objectives. The positive pass operates on real data and adjusts the weights to increase the goodness in\n",
        "every hidden layer. The negative pass operates on \"negative data\" and adjusts the weights to decrease\n",
        "the goodness in every hidden layer. This paper explores two different measures of goodness – the\n",
        "sum of the squared neural activities and the negative sum of the squared activities, but many other\n",
        "measures are possible.\"\n",
        "\n",
        "Thus, we have to find a way to define \"positive\" and \"negative\" data. If we want to classify MNIST, a data point being positive means that it somehow contains the right assignment of an image to its corresponding class. Hence, we can define a positive datapoint by embedding the right classification into the image and a negative datapoint by embedding a random classification. To do so, we can exploit the fact that there is a black frame around the digit, and we can use the top 10 pixels on the left to embed class information.\n",
        "\n",
        "![](images/ff_mnist.png)\n",
        "\n",
        "Then, the layers of the network are trained one at a time with the objective of assigning high activation values (high goodness) to positive points and low to negative ones. However, if there are many layers, it would be trivial for following layers to rely on the information coming from the previous ones (if the activations of layer $i$ are high, this drastically increases the probability that the activations of layer $i+1$ are high as well). To avoid this phenomenon and make layers learn different features, it is necessary to normalize the activation vector to have norm $1$.\n",
        "\n",
        "At the end, at evaluation time, one can query the network with a certain image with all possible labels, and take the argmax of the goodnesses to obtain the prediction."
      ]
    },
    {
      "cell_type": "code",
      "execution_count": 83,
      "metadata": {
        "id": "zeyKi7Sj1gcn"
      },
      "outputs": [],
      "source": [
        "class Net(torch.nn.Module):\n",
        "\n",
        "    def __init__(self, dimensions):\n",
        "        super().__init__()\n",
        "        self.layers = torch.nn.ModuleList([ReLULayer(dimensions[i], dimensions[i + 1]) for i in range(len(dimensions)-1)])\n",
        "    def predict(self, x):\n",
        "        goodness_per_label = []\n",
        "        for label in range(10):\n",
        "            x_lab = label_images(x, label)\n",
        "            goodness = []\n",
        "            for i, layer in enumerate(self.layers):\n",
        "                x_lab = layer(x_lab)\n",
        "                if i>0:\n",
        "                    goodness.append( ##################\n",
        "                        torch.sum(torch.square(x_lab),dim=1)\n",
        "                    )\n",
        "            goodness_per_label.append(sum(goodness).unsqueeze(1))\n",
        "        goodness_per_label = torch.cat(goodness_per_label, 1)\n",
        "        return torch.argmax(goodness_per_label, dim=1)\n",
        "    \n",
        "    def train(self, x_pos, x_neg):\n",
        "        for layer in self.layers:\n",
        "            x_pos, x_neg = layer.train(x_pos, x_neg)"
      ]
    },
    {
      "cell_type": "code",
      "execution_count": 84,
      "metadata": {
        "id": "zhuC5SwH1iCz"
      },
      "outputs": [],
      "source": [
        "def normalize(x): ###########\n",
        "    return torch.nn.functional.normalize(x)\n",
        "\n",
        "class ReLULayer(torch.nn.Module):\n",
        "    def __init__(self, in_features, out_features):\n",
        "        super().__init__()\n",
        "        self.linear = torch.nn.Linear(in_features, out_features)\n",
        "        self.relu = torch.nn.ReLU()\n",
        "        self.optimizer = torch.optim.Adam(self.parameters(), lr=0.03)\n",
        "        self.threshold = 2.0\n",
        "        self.num_epochs = 1000\n",
        "\n",
        "    def forward(self, x):\n",
        "        x_direction = normalize(x)\n",
        "        return self.relu(self.linear(x_direction))\n",
        "\n",
        "    def train(self, x_pos, x_neg):\n",
        "        for i in range(self.num_epochs):\n",
        "            positive_goodness = torch.sum(torch.square(self.forward(x_pos)),dim=1) ####################\n",
        "            negative_goodness = -torch.sum(torch.square(self.forward(x_neg)),dim=1)####################\n",
        "            l = torch.log(1 + torch.exp(torch.cat([\n",
        "                -positive_goodness + self.threshold,\n",
        "                negative_goodness - self.threshold]))).mean()\n",
        "            self.optimizer.zero_grad()\n",
        "            l.backward()\n",
        "            self.optimizer.step()\n",
        "        return self.forward(x_pos).detach(), self.forward(x_neg).detach()"
      ]
    },
    {
      "cell_type": "code",
      "execution_count": 85,
      "metadata": {
        "colab": {
          "base_uri": "https://localhost:8080/"
        },
        "id": "a1dSgF_m1jW6",
        "outputId": "d76ddd35-b86e-429c-b955-ac665a1df3c9"
      },
      "outputs": [
        {
          "output_type": "stream",
          "name": "stdout",
          "text": [
            "Train accuracy: 0.0026666666381061077\n",
            "Test accuracy: 0.002099999925121665\n"
          ]
        }
      ],
      "source": [
        "torch.manual_seed(0)\n",
        "\n",
        "transform = torchvision.transforms.Compose([torchvision.transforms.ToTensor(), torchvision.transforms.Normalize((0.1307,), (0.3081,)), torchvision.transforms.Lambda(torch.flatten)])\n",
        "\n",
        "trainset = torchvision.datasets.MNIST('./data/', transform=transform,  train=True, download=True)\n",
        "trainloader = torch.utils.data.DataLoader(trainset, batch_size=60000, shuffle=True)\n",
        "\n",
        "testset = torchvision.datasets.MNIST('./data/', transform=transform, train=False, download=True)\n",
        "testloader = torch.utils.data.DataLoader(testset, batch_size=10000, shuffle=False)\n",
        "\n",
        "def label_images(images, labels):\n",
        "    #this function takes shape (batch_size, 784) images and shape (batch_size) labels and returns label-embedded images, with shape (batch_size, 784)\n",
        "    max_value = torch.max(images)\n",
        "    images = images.reshape(-1,784).clone()\n",
        "    for i, image in enumerate(images):\n",
        "        label = labels if type(labels) == int else labels[i]\n",
        "        image[label] = max_value\n",
        "    return images\n",
        "\n",
        "net = Net([784, 500, 500]).to(device)\n",
        "x, y = next(iter(trainloader))\n",
        "x=x.to(device)\n",
        "y=y.to(device)\n",
        "x_pos = label_images(x, y)\n",
        "rnd = torch.randperm(x.size(0))\n",
        "\n",
        "x_neg = label_images(x, y[rnd])\n",
        "net.train(x_pos, x_neg)\n",
        "\n",
        "print('Train accuracy:', net.predict(x).eq(y).float().mean().item())\n",
        "\n",
        "x_te, y_te = next(iter(testloader))\n",
        "x_te=x_te.to(device)\n",
        "y_te=y_te.to(device)\n",
        "\n",
        "print('Test accuracy:', net.predict(x_te).eq(y_te).float().mean().item())"
      ]
    },
    {
      "cell_type": "code",
      "source": [
        "x,y = next(iter(trainloader))"
      ],
      "metadata": {
        "id": "QCkVXIZjK3JE"
      },
      "execution_count": 55,
      "outputs": []
    },
    {
      "cell_type": "code",
      "source": [
        "def display_images(input, output):\n",
        "    if input is not None:\n",
        "        input_pics = input.data.cpu().numpy().reshape(28,28)\n",
        "        plt.imshow(input_pics,cmap='gray')\n",
        "    plt.figure(figsize=(18, 4))\n",
        "    output_pics = output.data.cpu().numpy().reshape(28,28)\n",
        "    plt.imshow(output_pics,cmap='gray')\n",
        "\n",
        "index = 3\n",
        "number = 3\n",
        "display_images(x[index].reshape(-1,784),label_images(x[index].reshape(-1,784),number))"
      ],
      "metadata": {
        "colab": {
          "base_uri": "https://localhost:8080/",
          "height": 513
        },
        "id": "W1sOcO4dHhcl",
        "outputId": "35a1c107-5b30-4359-f822-8fbb30ff6845"
      },
      "execution_count": 58,
      "outputs": [
        {
          "output_type": "display_data",
          "data": {
            "text/plain": [
              "<Figure size 432x288 with 1 Axes>"
            ],
            "image/png": "[encoded data removed]"
          },
          "metadata": {
            "needs_background": "light"
          }
        },
        {
          "output_type": "display_data",
          "data": {
            "text/plain": [
              "<Figure size 1296x288 with 1 Axes>"
            ],
            "image/png": "[encoded data removed]"
          },
          "metadata": {
            "needs_background": "light"
          }
        }
      ]
    },
    {
      "cell_type": "code",
      "source": [
        "model = ReLULayer(784,500)\n",
        "x = torch.rand(4,784)"
      ],
      "metadata": {
        "id": "1qv0rOARragD"
      },
      "execution_count": 80,
      "outputs": []
    },
    {
      "cell_type": "code",
      "source": [
        "print(torch.sum(torch.square(model.forward(x)),dim=1))\n",
        "print(torch.sum(torch.square(model(x)),dim=1) )"
      ],
      "metadata": {
        "colab": {
          "base_uri": "https://localhost:8080/"
        },
        "id": "lThGCbZ_sCyT",
        "outputId": "da205551-f188-4105-e134-ecae0a15628c"
      },
      "execution_count": 81,
      "outputs": [
        {
          "output_type": "stream",
          "name": "stdout",
          "text": [
            "tensor([0.2283, 0.2297, 0.2190, 0.2363], grad_fn=<SumBackward1>)\n",
            "tensor([0.2283, 0.2297, 0.2190, 0.2363], grad_fn=<SumBackward1>)\n"
          ]
        }
      ]
    },
    {
      "cell_type": "markdown",
      "metadata": {
        "id": "28U3i-Zo3Y75"
      },
      "source": [
        "# Third assignment (deadline 8 January)\n",
        "\n",
        "\n",
        "\n",
        "1.   Read Hinton's [paper](https://www.cs.toronto.edu/~hinton/FFA13.pdf) about the Forward Forward algorithm. In particular, pay attention to the first 6/7 pages of it.\n",
        "2.   Fill the gaps in the notebook to reproduce the experiment described at page 5 of the paper.\n",
        "3.   Experiment with two of the following three points for future work reported in the paper and discuss your findings:\n",
        "    *   Can the positive and negative passes be very widely separated in time as they would be if\n",
        "the negative passes were done during sleep?\n",
        "    *   What is the best goodness function to use?\n",
        "    *   What is the best activation function to use? \n",
        "\n",
        "You can send your work as a jupyter notebook in any format you prefer (`ipynb`, `pdf` or `html`) to lore.basile@outlook.com by 23.59, 08/01/2023. Please name the file as `NameSurname.<format>`.\n",
        "\n",
        "For any doubt do not hesitate to reach out at alessio.ansuini@areasciencepark.it and lore.basile@outlook.com.\n",
        "\n"
      ]
    }
  ],
  "metadata": {
    "accelerator": "GPU",
    "colab": {
      "provenance": []
    },
    "gpuClass": "standard",
    "kernelspec": {
      "display_name": "Python 3 (ipykernel)",
      "language": "python",
      "name": "python3"
    },
    "language_info": {
      "codemirror_mode": {
        "name": "ipython",
        "version": 3
      },
      "file_extension": ".py",
      "mimetype": "text/x-python",
      "name": "python",
      "nbconvert_exporter": "python",
      "pygments_lexer": "ipython3",
      "version": "3.10.6"
    }
  },
  "nbformat": 4,
  "nbformat_minor": 0
}