{
  "cells": [
    {
      "cell_type": "markdown",
      "metadata": {
        "id": "pKt5sLQO9zgn"
      },
      "source": [
        "# Lab 7"
      ]
    },
    {
      "cell_type": "code",
      "execution_count": 1,
      "metadata": {
        "id": "0Jo434asKrS0"
      },
      "outputs": [],
      "source": [
        "import torch\n",
        "import torchvision\n",
        "\n",
        "device = torch.device(\"cuda\" if torch.cuda.is_available() else \"cpu\")"
      ]
    },
    {
      "cell_type": "markdown",
      "metadata": {
        "id": "kfbM76wz9_kg"
      },
      "source": [
        "# The Forward Forward algorithm\n",
        "\n",
        "The [Forward Forward algorithm](https://www.cs.toronto.edu/~hinton/FFA13.pdf) has been presented by Geoffrey Hinton (one of the \"Deep Learning godfathers\") at NeurIPS 2022, less than a month ago.\n",
        "\n",
        "It is a novel technique for Neural Network optimization, alternative to standard Backpropagation."
      ]
    },
    {
      "cell_type": "markdown",
      "metadata": {
        "id": "ztmvsf2WB94X"
      },
      "source": [
        "## An alternative to Backpropagation\n",
        "\n",
        "Over the last decades, backprop has been so successful that neuroscientists have been looking for proofs that the brain actually learns in a similar way. However, that does not seem to happen. Moreover, backprop encounters serious limitations if the model is not exactly defined in mathematical terms: if the forward pass is a black box, there is no possibility to make a backward pass (as we don't know what to differentiate).\n",
        "\n",
        "Even if (for the moment) it was not presented with the goal of substituting backprop for practical applications, the Forward Forward algorithm aims at solving some of these problems, using a layer-by-layer learning approach that does not require backward propagation of gradients."
      ]
    },
    {
      "cell_type": "markdown",
      "metadata": {
        "id": "-42jTD10GapS"
      },
      "source": [
        "## MNIST classification through FF\n",
        "\n",
        "Let's see how FF works through a practical example on MNIST classification.\n",
        "\n",
        "Citing the paper,  \"the idea is to replace the forward and backward passes of backpropagation by two forward\n",
        "passes that operate in exactly the same way as each other, but on different data and with opposite\n",
        "objectives. The positive pass operates on real data and adjusts the weights to increase the goodness in\n",
        "every hidden layer. The negative pass operates on \"negative data\" and adjusts the weights to decrease\n",
        "the goodness in every hidden layer. This paper explores two different measures of goodness – the\n",
        "sum of the squared neural activities and the negative sum of the squared activities, but many other\n",
        "measures are possible.\"\n",
        "\n",
        "Thus, we have to find a way to define \"positive\" and \"negative\" data. If we want to classify MNIST, a data point being positive means that it somehow contains the right assignment of an image to its corresponding class. Hence, we can define a positive datapoint by embedding the right classification into the image and a negative datapoint by embedding a random classification. To do so, we can exploit the fact that there is a black frame around the digit, and we can use the top 10 pixels on the left to embed class information.\n",
        "\n",
        "![](images/ff_mnist.png)\n",
        "\n",
        "Then, the layers of the network are trained one at a time with the objective of assigning high activation values (high goodness) to positive points and low to negative ones. However, if there are many layers, it would be trivial for following layers to rely on the information coming from the previous ones (if the activations of layer $i$ are high, this drastically increases the probability that the activations of layer $i+1$ are high as well). To avoid this phenomenon and make layers learn different features, it is necessary to normalize the activation vector to have norm $1$.\n",
        "\n",
        "At the end, at evaluation time, one can query the network with a certain image with all possible labels, and take the argmax of the goodnesses to obtain the prediction."
      ]
    },
    {
      "cell_type": "code",
      "execution_count": 2,
      "metadata": {
        "id": "zeyKi7Sj1gcn"
      },
      "outputs": [],
      "source": [
        "class Net(torch.nn.Module):\n",
        "\n",
        "    def __init__(self, dimensions):\n",
        "        super().__init__()\n",
        "        self.layers = torch.nn.ModuleList([ReLULayer(dimensions[i], dimensions[i + 1]) for i in range(len(dimensions)-1)])\n",
        "    def predict(self, x):\n",
        "        goodness_per_label = []\n",
        "        for label in range(10):\n",
        "            x_lab = label_images(x, label)\n",
        "            goodness = []\n",
        "            for i, layer in enumerate(self.layers):\n",
        "                x_lab = layer(x_lab)\n",
        "                if i>0:\n",
        "                    goodness.append(\n",
        "                        torch.mean(torch.square(x_lab),1)\n",
        "                    )\n",
        "            goodness_per_label.append(sum(goodness).unsqueeze(1))\n",
        "        goodness_per_label = torch.cat(goodness_per_label, 1)\n",
        "        return torch.argmax(goodness_per_label, dim=1)\n",
        "    \n",
        "    def train(self, x_pos, x_neg):\n",
        "        for layer in self.layers:\n",
        "            x_pos, x_neg = layer.train(x_pos, x_neg)"
      ]
    },
    {
      "cell_type": "code",
      "execution_count": 3,
      "metadata": {
        "id": "zhuC5SwH1iCz"
      },
      "outputs": [],
      "source": [
        "def normalize(x):\n",
        "    return torch.nn.functional.normalize(x)\n",
        "\n",
        "class ReLULayer(torch.nn.Module):\n",
        "    def __init__(self, in_features, out_features):\n",
        "        super().__init__()\n",
        "        self.linear = torch.nn.Linear(in_features, out_features)\n",
        "        self.relu = torch.nn.ReLU()\n",
        "        self.optimizer = torch.optim.Adam(self.parameters(), lr=0.03)\n",
        "        self.threshold = 2.0\n",
        "        self.num_epochs = 1000\n",
        "\n",
        "    def forward(self, x):\n",
        "        x_direction = normalize(x)\n",
        "        return self.relu(self.linear(x_direction))\n",
        "\n",
        "    def train(self, x_pos, x_neg):\n",
        "        for i in range(self.num_epochs):\n",
        "            positive_goodness = torch.mean(torch.square(self.forward(x_pos)),1)\n",
        "            negative_goodness = torch.mean(torch.square(self.forward(x_neg)),1)\n",
        "            l = torch.log(1 + torch.exp(torch.cat([\n",
        "                -positive_goodness + self.threshold,\n",
        "                negative_goodness - self.threshold]))).mean()\n",
        "            self.optimizer.zero_grad()\n",
        "            l.backward()\n",
        "            self.optimizer.step()\n",
        "        return self.forward(x_pos).detach(), self.forward(x_neg).detach()"
      ]
    },
    {
      "cell_type": "code",
      "execution_count": 4,
      "metadata": {
        "colab": {
          "base_uri": "https://localhost:8080/",
          "height": 458,
          "referenced_widgets": [
            "2e8842dc3b65452fa1ecc64d0db37b9a",
            "362c379f31664c26bf9108c41cfce5ae",
            "42365c1ae01347ebb3c4fbe4595667c3",
            "52d310708b4e400bb7d27a8da05712ba",
            "958a5ac7779b4d87b6412c365671918e",
            "aaf3a17b17cc49e88dd0124421b6497d",
            "b49529c697724634a83e7299f3a14954",
            "ad9669b08e1d4312a16239cb0e921ef6",
            "ee831d5b26594216b602333172c0398a",
            "059c9f6e2c694ffba24368d7b4b4191a",
            "319a064263da47e2a96c7010da34adde",
            "4b8ca8e38e7d4059a0b6fe1f60088d4c",
            "0ffd969e2fce4487aa24954770bfd4ea",
            "8f04ee858b1e446e851204d5419cd430",
            "2bb941fa1a5745fd8a97f82379bf414d",
            "9d14282dc2f2467f804dad5658c3b171",
            "19619460163147fe863ca1121ca4c7cc",
            "929efacc13cf4db4b9e6e6cac814097b",
            "24c52b8b2dd043209f30b00a273e5049",
            "f8431b18bcbf4406b1ccfb66850da5c0",
            "d18bdaa43ea54df8aee06f4e75c2f01e",
            "e2fe6354a8694aaab0bde379aaf55e58",
            "cb6f13d109444e6e82cb0577277eb0da",
            "d1ad2cefb0d04c429890755b404af819",
            "043544d92503428cb0f936fc5abd7569",
            "be8337e590984d4fb14cf39e21b8dc27",
            "b4ce7a000065417a94af41581f6ef73b",
            "6741fac715a04ee69aabe871fe0e06e0",
            "d067146afac844fe8464d5fdb2f584c1",
            "92ffac81694f4cdd99a87cbe1f17433b",
            "dfd8d92e3b1a4b37ae7fc29736659d63",
            "5d34288949a441489b0e50f054fb958c",
            "cb5f67b4403249ac9b9690d33e9d5052",
            "0f79c40c136f4975872001fb22e89ebb",
            "5b39ca4987094d5d88203e3e683a5261",
            "ef3b45e212a74b6281b2575da6c627f5",
            "219b69476aa04311b5f96357a2a8901c",
            "95e6581a3cbf4f948d8a1a7fe8b73f70",
            "3969b57a07c14cf997b047cd548b3cbf",
            "bf4e874e45ea4fca8ef9920d3a682453",
            "95f6528ecb4d4ef3a18cec7d85695e70",
            "aacab7594b75482f8ac99b82480e8be8",
            "103cdf5bab2945cfad57a0be1278100a",
            "f3cc94024c3142f48e69f2e04905aeff"
          ]
        },
        "id": "a1dSgF_m1jW6",
        "outputId": "e15cb7ed-5276-479c-e8b9-47c779956710"
      },
      "outputs": [
        {
          "output_type": "stream",
          "name": "stdout",
          "text": [
            "Downloading http://yann.lecun.com/exdb/mnist/train-images-idx3-ubyte.gz\n",
            "Downloading http://yann.lecun.com/exdb/mnist/train-images-idx3-ubyte.gz to ./data/MNIST/raw/train-images-idx3-ubyte.gz\n"
          ]
        },
        {
          "output_type": "display_data",
          "data": {
            "text/plain": [
              "  0%|          | 0/9912422 [00:00<?, ?it/s]"
            ],
            "application/vnd.jupyter.widget-view+json": {
              "version_major": 2,
              "version_minor": 0,
              "model_id": "2e8842dc3b65452fa1ecc64d0db37b9a"
            }
          },
          "metadata": {}
        },
        {
          "output_type": "stream",
          "name": "stdout",
          "text": [
            "Extracting ./data/MNIST/raw/train-images-idx3-ubyte.gz to ./data/MNIST/raw\n",
            "\n",
            "Downloading http://yann.lecun.com/exdb/mnist/train-labels-idx1-ubyte.gz\n",
            "Downloading http://yann.lecun.com/exdb/mnist/train-labels-idx1-ubyte.gz to ./data/MNIST/raw/train-labels-idx1-ubyte.gz\n"
          ]
        },
        {
          "output_type": "display_data",
          "data": {
            "text/plain": [
              "  0%|          | 0/28881 [00:00<?, ?it/s]"
            ],
            "application/vnd.jupyter.widget-view+json": {
              "version_major": 2,
              "version_minor": 0,
              "model_id": "4b8ca8e38e7d4059a0b6fe1f60088d4c"
            }
          },
          "metadata": {}
        },
        {
          "output_type": "stream",
          "name": "stdout",
          "text": [
            "Extracting ./data/MNIST/raw/train-labels-idx1-ubyte.gz to ./data/MNIST/raw\n",
            "\n",
            "Downloading http://yann.lecun.com/exdb/mnist/t10k-images-idx3-ubyte.gz\n",
            "Downloading http://yann.lecun.com/exdb/mnist/t10k-images-idx3-ubyte.gz to ./data/MNIST/raw/t10k-images-idx3-ubyte.gz\n"
          ]
        },
        {
          "output_type": "display_data",
          "data": {
            "text/plain": [
              "  0%|          | 0/1648877 [00:00<?, ?it/s]"
            ],
            "application/vnd.jupyter.widget-view+json": {
              "version_major": 2,
              "version_minor": 0,
              "model_id": "cb6f13d109444e6e82cb0577277eb0da"
            }
          },
          "metadata": {}
        },
        {
          "output_type": "stream",
          "name": "stdout",
          "text": [
            "Extracting ./data/MNIST/raw/t10k-images-idx3-ubyte.gz to ./data/MNIST/raw\n",
            "\n",
            "Downloading http://yann.lecun.com/exdb/mnist/t10k-labels-idx1-ubyte.gz\n",
            "Downloading http://yann.lecun.com/exdb/mnist/t10k-labels-idx1-ubyte.gz to ./data/MNIST/raw/t10k-labels-idx1-ubyte.gz\n"
          ]
        },
        {
          "output_type": "display_data",
          "data": {
            "text/plain": [
              "  0%|          | 0/4542 [00:00<?, ?it/s]"
            ],
            "application/vnd.jupyter.widget-view+json": {
              "version_major": 2,
              "version_minor": 0,
              "model_id": "0f79c40c136f4975872001fb22e89ebb"
            }
          },
          "metadata": {}
        },
        {
          "output_type": "stream",
          "name": "stdout",
          "text": [
            "Extracting ./data/MNIST/raw/t10k-labels-idx1-ubyte.gz to ./data/MNIST/raw\n",
            "\n",
            "Train accuracy: 0.9311666488647461\n",
            "Test accuracy: 0.9336999654769897\n"
          ]
        }
      ],
      "source": [
        "torch.manual_seed(0)\n",
        "\n",
        "transform = torchvision.transforms.Compose([torchvision.transforms.ToTensor(), torchvision.transforms.Normalize((0.1307,), (0.3081,)), torchvision.transforms.Lambda(torch.flatten)])\n",
        "\n",
        "trainset = torchvision.datasets.MNIST('./data/', transform=transform,  train=True, download=True)\n",
        "trainloader = torch.utils.data.DataLoader(trainset, batch_size=60000, shuffle=True)\n",
        "\n",
        "testset = torchvision.datasets.MNIST('./data/', transform=transform, train=False, download=True)\n",
        "testloader = torch.utils.data.DataLoader(testset, batch_size=10000, shuffle=False)\n",
        "\n",
        "def label_images(images, labels):\n",
        "    #this function takes shape (batch_size, 784) images and shape (batch_size) labels and returns label-embedded images, with shape (batch_size, 784)\n",
        "    max_value = torch.max(images)\n",
        "    images = images.reshape(-1,784).clone()\n",
        "    for i, image in enumerate(images):\n",
        "        label = labels if type(labels) == int else labels[i]\n",
        "        image[label] = max_value\n",
        "    return images\n",
        "\n",
        "net = Net([784, 500, 500]).to(device)\n",
        "x, y = next(iter(trainloader))\n",
        "x=x.to(device)\n",
        "y=y.to(device)\n",
        "x_pos = label_images(x, y)\n",
        "rnd = torch.randperm(x.size(0))\n",
        "\n",
        "x_neg = label_images(x, y[rnd])\n",
        "net.train(x_pos, x_neg)\n",
        "\n",
        "print('Train accuracy:', net.predict(x).eq(y).float().mean().item())\n",
        "\n",
        "x_te, y_te = next(iter(testloader))\n",
        "x_te=x_te.to(device)\n",
        "y_te=y_te.to(device)\n",
        "\n",
        "print('Test accuracy:', net.predict(x_te).eq(y_te).float().mean().item())"
      ]
    },
    {
      "cell_type": "markdown",
      "metadata": {
        "id": "28U3i-Zo3Y75"
      },
      "source": [
        "# Third assignment (deadline 8 January)\n",
        "\n",
        "\n",
        "\n",
        "1.   Read Hinton's [paper](https://www.cs.toronto.edu/~hinton/FFA13.pdf) about the Forward Forward algorithm. In particular, pay attention to the first 6/7 pages of it.\n",
        "2.   Fill the gaps in the notebook to reproduce the experiment described at page 5 of the paper.\n",
        "3.   Experiment with two of the following three points for future work reported in the paper and discuss your findings:\n",
        "    *   Can the positive and negative passes be very widely separated in time as they would be if\n",
        "the negative passes were done during sleep?\n",
        "    *   What is the best goodness function to use?\n",
        "    *   What is the best activation function to use? \n",
        "\n",
        "You can send your work as a jupyter notebook in any format you prefer (`ipynb`, `pdf` or `html`) to lore.basile@outlook.com by 23.59, 08/01/2023. Please name the file as `NameSurname.<format>`.\n",
        "\n",
        "For any doubt do not hesitate to reach out at alessio.ansuini@areasciencepark.it and lore.basile@outlook.com.\n",
        "\n"
      ]
    },
    {
      "cell_type": "markdown",
      "metadata": {
        "id": "Q_dUmZiD1b8M"
      },
      "source": [
        "# Future work\n",
        "## Can the positive and negative passes be very widely separated in time as they would be if the negative passes were done during sleep?"
      ]
    },
    {
      "cell_type": "markdown",
      "metadata": {
        "id": "nEVDFFLa4cPT"
      },
      "source": [
        "We will first make te positive forward pass. The network will be trained based only on positive data (daytime). We will then look at the accuracy obtained with the sole positive forward pass. <br> Then we will do the negative forward pass based only on negative data (sleep). We will look at the accuracy and see if it has improved since the positive pass and we will compare it with the accuracy obtained with the two passes done at the same time."
      ]
    },
    {
      "cell_type": "code",
      "execution_count": 5,
      "metadata": {
        "id": "-s0mAX8C1Rz7"
      },
      "outputs": [],
      "source": [
        "class ReLULayer(torch.nn.Module):\n",
        "    def __init__(self, in_features, out_features):\n",
        "        super().__init__()\n",
        "        self.linear = torch.nn.Linear(in_features, out_features)\n",
        "        self.relu = torch.nn.ReLU()\n",
        "        self.optimizer = torch.optim.Adam(self.parameters(), lr=0.03)\n",
        "        self.threshold = 2.0\n",
        "        self.num_epochs = 1000\n",
        "\n",
        "    def forward(self, x):\n",
        "        x_direction = normalize(x)\n",
        "        return self.relu(self.linear(x_direction))\n",
        "\n",
        "    def train_pos(self, x_pos):\n",
        "        for i in range(self.num_epochs):\n",
        "            positive_goodness = torch.mean(torch.square(self.forward(x_pos)),1)\n",
        "            l = torch.log(1 + torch.exp(\n",
        "                -positive_goodness + self.threshold)).mean()\n",
        "            self.optimizer.zero_grad()\n",
        "            l.backward()\n",
        "            self.optimizer.step()\n",
        "        return self.forward(x_pos).detach()\n",
        "          \n",
        "    def train_neg(self, x_neg):\n",
        "        for i in range(self.num_epochs):\n",
        "            negative_goodness = torch.mean(torch.square(self.forward(x_neg)),1)\n",
        "            l = torch.log(1 + torch.exp(              \n",
        "                negative_goodness - self.threshold)).mean()\n",
        "            self.optimizer.zero_grad()\n",
        "            l.backward()\n",
        "            self.optimizer.step()\n",
        "        return self.forward(x_neg).detach()"
      ]
    },
    {
      "cell_type": "code",
      "execution_count": 6,
      "metadata": {
        "id": "ZSsGh08H-QgV"
      },
      "outputs": [],
      "source": [
        "class Net(torch.nn.Module):\n",
        "\n",
        "    def __init__(self, dimensions):\n",
        "        super().__init__()\n",
        "        self.layers = torch.nn.ModuleList([ReLULayer(dimensions[i], dimensions[i + 1]) for i in range(len(dimensions)-1)])\n",
        "    def predict(self, x):\n",
        "        goodness_per_label = []\n",
        "        for label in range(10):\n",
        "            x_lab = label_images(x, label)\n",
        "            goodness = []\n",
        "            for i, layer in enumerate(self.layers):\n",
        "                x_lab = layer(x_lab)\n",
        "                if i>0:\n",
        "                    goodness.append(\n",
        "                        torch.mean(torch.square(x_lab),1)\n",
        "                    )\n",
        "            goodness_per_label.append(sum(goodness).unsqueeze(1))\n",
        "        goodness_per_label = torch.cat(goodness_per_label, 1)\n",
        "        return torch.argmax(goodness_per_label, dim=1)\n",
        "    \n",
        "    def train_pos(self, x_pos):\n",
        "        for layer in self.layers:\n",
        "            x_pos = layer.train_pos(x_pos)\n",
        "        \n",
        "    def train_neg(self, x_neg):\n",
        "        for layer in self.layers:\n",
        "            x_neg = layer.train_neg(x_neg)"
      ]
    },
    {
      "cell_type": "code",
      "execution_count": 7,
      "metadata": {
        "colab": {
          "base_uri": "https://localhost:8080/"
        },
        "id": "kogGeq6sPzlN",
        "outputId": "cfbd3ad0-6ffd-4838-8875-1bd8caeb8dda"
      },
      "outputs": [
        {
          "output_type": "stream",
          "name": "stdout",
          "text": [
            "Train accuracy only with positive data: 0.020233333110809326\n",
            "Test accuracy only with positive data: 0.02159999869763851\n",
            "Train accuracy after negative data: 0.09871666878461838\n",
            "Test accuracy after negative data: 0.09799999743700027\n"
          ]
        }
      ],
      "source": [
        "net = Net([784, 500, 500]).to(device)\n",
        "\n",
        "x, y = next(iter(trainloader))\n",
        "x=x.to(device)\n",
        "y=y.to(device)\n",
        "\n",
        "x_pos = label_images(x, y)\n",
        "\n",
        "rnd = torch.randperm(x.size(0))\n",
        "x_neg = label_images(x, y[rnd])\n",
        "\n",
        "net.train_pos(x_pos)\n",
        "\n",
        "print('Train accuracy only with positive data:', net.predict(x).eq(y).float().mean().item())\n",
        "print('Test accuracy only with positive data:', net.predict(x_te).eq(y_te).float().mean().item())\n",
        "\n",
        "net.train_neg(x_neg)\n",
        "\n",
        "print('Train accuracy after negative data:', net.predict(x).eq(y).float().mean().item())\n",
        "print('Test accuracy after negative data:', net.predict(x_te).eq(y_te).float().mean().item())"
      ]
    },
    {
      "cell_type": "markdown",
      "metadata": {
        "id": "PlDngRtJ4cPw"
      },
      "source": [
        "We can clearly see that after the negative pass, there is an improvement in the accuracy. However the final accuracy is not as good as the one obtained with the two simultaneus passes. The impression is that with a better suited experiment, the results may be comparable to the simoultaneus pass. So the two passes might be separated in time."
      ]
    },
    {
      "cell_type": "markdown",
      "metadata": {
        "id": "jW3UYFeyRiNQ"
      },
      "source": [
        "## What is the best goodness function to use?\n",
        "Let us try several goodness functions to check wether we can obtain a better accuracy than the one obtained with the mean of the squared activations."
      ]
    },
    {
      "cell_type": "markdown",
      "metadata": {
        "id": "Cq_xJvdX1cQf"
      },
      "source": [
        "### Mean of the activities"
      ]
    },
    {
      "cell_type": "code",
      "execution_count": 8,
      "metadata": {
        "id": "vl7pcCGnSmoy"
      },
      "outputs": [],
      "source": [
        "class ReLULayer(torch.nn.Module):\n",
        "    def __init__(self, in_features, out_features):\n",
        "        super().__init__()\n",
        "        self.linear = torch.nn.Linear(in_features, out_features)\n",
        "        self.relu = torch.nn.ReLU()\n",
        "        self.optimizer = torch.optim.Adam(self.parameters(), lr=0.03)\n",
        "        self.threshold = 2.0\n",
        "        self.num_epochs = 1000\n",
        "\n",
        "    def forward(self, x):\n",
        "        x_direction = normalize(x)\n",
        "        return self.relu(self.linear(x_direction))\n",
        "\n",
        "    def train(self, x_pos, x_neg):\n",
        "        for i in range(self.num_epochs):\n",
        "            positive_goodness = torch.mean(self.forward(x_pos),1)\n",
        "            negative_goodness = torch.mean(self.forward(x_neg),1)\n",
        "            l = torch.log(1 + torch.exp(torch.cat([\n",
        "                -positive_goodness + self.threshold,\n",
        "                negative_goodness - self.threshold]))).mean()\n",
        "            self.optimizer.zero_grad()\n",
        "            l.backward()\n",
        "            self.optimizer.step()\n",
        "        return self.forward(x_pos).detach(), self.forward(x_neg).detach()"
      ]
    },
    {
      "cell_type": "code",
      "execution_count": 9,
      "metadata": {
        "id": "bggnfHPqUnwz"
      },
      "outputs": [],
      "source": [
        "class Net(torch.nn.Module):\n",
        "\n",
        "    def __init__(self, dimensions):\n",
        "        super().__init__()\n",
        "        self.layers = torch.nn.ModuleList([ReLULayer(dimensions[i], dimensions[i + 1]) for i in range(len(dimensions)-1)])\n",
        "    def predict(self, x):\n",
        "        goodness_per_label = []\n",
        "        for label in range(10):\n",
        "            x_lab = label_images(x, label)\n",
        "            goodness = []\n",
        "            for i, layer in enumerate(self.layers):\n",
        "                x_lab = layer(x_lab)\n",
        "                if i>0:\n",
        "                    goodness.append(\n",
        "                        torch.mean(x_lab,1)\n",
        "                    )\n",
        "            goodness_per_label.append(sum(goodness).unsqueeze(1))\n",
        "        goodness_per_label = torch.cat(goodness_per_label, 1)\n",
        "        return torch.argmax(goodness_per_label, dim=1)\n",
        "    \n",
        "    def train(self, x_pos, x_neg):\n",
        "        for layer in self.layers:\n",
        "            x_pos, x_neg = layer.train(x_pos, x_neg)"
      ]
    },
    {
      "cell_type": "code",
      "execution_count": 10,
      "metadata": {
        "colab": {
          "base_uri": "https://localhost:8080/"
        },
        "id": "mc3QZe89U51i",
        "outputId": "cc987eb8-97e3-42a5-bd60-7df3a199e391"
      },
      "outputs": [
        {
          "output_type": "stream",
          "name": "stdout",
          "text": [
            "Train accuracy: 0.11236666887998581\n",
            "Test accuracy: 0.11349999904632568\n"
          ]
        }
      ],
      "source": [
        "net = Net([784, 500, 500]).to(device)\n",
        "\n",
        "x, y = next(iter(trainloader))\n",
        "x=x.to(device)\n",
        "y=y.to(device)\n",
        "\n",
        "x_pos = label_images(x, y)\n",
        "\n",
        "rnd = torch.randperm(x.size(0))\n",
        "x_neg = label_images(x, y[rnd])\n",
        "\n",
        "net.train(x_pos,x_neg)\n",
        "\n",
        "print('Train accuracy:', net.predict(x).eq(y).float().mean().item())\n",
        "print('Test accuracy:', net.predict(x_te).eq(y_te).float().mean().item())"
      ]
    },
    {
      "cell_type": "markdown",
      "metadata": {
        "id": "2R8LG6KK1cQh"
      },
      "source": [
        "### Sum of the activities (with threshold of 3.0)"
      ]
    },
    {
      "cell_type": "code",
      "execution_count": 11,
      "metadata": {
        "id": "nA1oReTO1cQi"
      },
      "outputs": [],
      "source": [
        "class ReLULayer(torch.nn.Module):\n",
        "    def __init__(self, in_features, out_features):\n",
        "        super().__init__()\n",
        "        self.linear = torch.nn.Linear(in_features, out_features)\n",
        "        self.relu = torch.nn.ReLU()\n",
        "        self.optimizer = torch.optim.Adam(self.parameters(), lr=0.03)\n",
        "        self.threshold = 3.0\n",
        "        self.num_epochs = 1000\n",
        "\n",
        "    def forward(self, x):\n",
        "        x_direction = normalize(x)\n",
        "        return self.relu(self.linear(x_direction))\n",
        "\n",
        "    def train(self, x_pos, x_neg):\n",
        "        for i in range(self.num_epochs):\n",
        "            positive_goodness = torch.sum(self.forward(x_pos),1)\n",
        "            negative_goodness = torch.sum(self.forward(x_neg),1)\n",
        "            l = torch.log(1 + torch.exp(torch.cat([\n",
        "                -positive_goodness + self.threshold,\n",
        "                negative_goodness - self.threshold]))).mean()\n",
        "            self.optimizer.zero_grad()\n",
        "            l.backward()\n",
        "            self.optimizer.step()\n",
        "        return self.forward(x_pos).detach(), self.forward(x_neg).detach()"
      ]
    },
    {
      "cell_type": "code",
      "execution_count": 12,
      "metadata": {
        "id": "8fLSJ5Kf1cQi"
      },
      "outputs": [],
      "source": [
        "class Net(torch.nn.Module):\n",
        "\n",
        "    def __init__(self, dimensions):\n",
        "        super().__init__()\n",
        "        self.layers = torch.nn.ModuleList([ReLULayer(dimensions[i], dimensions[i + 1]) for i in range(len(dimensions)-1)])\n",
        "    def predict(self, x):\n",
        "        goodness_per_label = []\n",
        "        for label in range(10):\n",
        "            x_lab = label_images(x, label)\n",
        "            goodness = []\n",
        "            for i, layer in enumerate(self.layers):\n",
        "                x_lab = layer(x_lab)\n",
        "                if i>0:\n",
        "                    goodness.append(\n",
        "                        torch.sum(x_lab,1)\n",
        "                    )\n",
        "            goodness_per_label.append(sum(goodness).unsqueeze(1))\n",
        "        goodness_per_label = torch.cat(goodness_per_label, 1)\n",
        "        return torch.argmax(goodness_per_label, dim=1)\n",
        "    \n",
        "    def train(self, x_pos, x_neg):\n",
        "        for layer in self.layers:\n",
        "            x_pos, x_neg = layer.train(x_pos, x_neg)"
      ]
    },
    {
      "cell_type": "code",
      "execution_count": 13,
      "metadata": {
        "colab": {
          "base_uri": "https://localhost:8080/"
        },
        "id": "HcQuqfwA1cQi",
        "outputId": "0f85191a-cc5d-4c4f-c332-32b6fea0ef3f"
      },
      "outputs": [
        {
          "output_type": "stream",
          "name": "stdout",
          "text": [
            "Train accuracy: 0.6658999919891357\n",
            "Test accuracy: 0.6609999537467957\n"
          ]
        }
      ],
      "source": [
        "net = Net([784, 500, 500]).to(device)\n",
        "\n",
        "net.train(x_pos,x_neg)\n",
        "\n",
        "\n",
        "x, y = next(iter(trainloader))\n",
        "x=x.to(device)\n",
        "y=y.to(device)\n",
        "\n",
        "x_pos = label_images(x, y)\n",
        "\n",
        "rnd = torch.randperm(x.size(0))\n",
        "x_neg = label_images(x, y[rnd])\n",
        "\n",
        "net.train(x_pos,x_neg)\n",
        "\n",
        "print('Train accuracy:', net.predict(x).eq(y).float().mean().item())\n",
        "print('Test accuracy:', net.predict(x_te).eq(y_te).float().mean().item())"
      ]
    },
    {
      "cell_type": "markdown",
      "metadata": {
        "id": "iWbsxRTW1cQi"
      },
      "source": [
        "### Sum of the squared activities (with threshold of 2.0)"
      ]
    },
    {
      "cell_type": "code",
      "execution_count": 14,
      "metadata": {
        "id": "Vbn1uwHr1cQi"
      },
      "outputs": [],
      "source": [
        "class ReLULayer(torch.nn.Module):\n",
        "    def __init__(self, in_features, out_features):\n",
        "        super().__init__()\n",
        "        self.linear = torch.nn.Linear(in_features, out_features)\n",
        "        self.relu = torch.nn.ReLU()\n",
        "        self.optimizer = torch.optim.Adam(self.parameters(), lr=0.03)\n",
        "        self.threshold = 3.0\n",
        "        self.num_epochs = 1000\n",
        "\n",
        "    def forward(self, x):\n",
        "        x_direction = normalize(x)\n",
        "        return self.relu(self.linear(x_direction))\n",
        "\n",
        "    def train(self, x_pos, x_neg):\n",
        "        for i in range(self.num_epochs):\n",
        "            positive_goodness = torch.sum(torch.square(self.forward(x_pos)),1)\n",
        "            negative_goodness = torch.sum(torch.square(self.forward(x_neg)),1)\n",
        "            l = torch.log(1 + torch.exp(torch.cat([\n",
        "                -positive_goodness + self.threshold,\n",
        "                negative_goodness - self.threshold]))).mean()\n",
        "            self.optimizer.zero_grad()\n",
        "            l.backward()\n",
        "            self.optimizer.step()\n",
        "        return self.forward(x_pos).detach(), self.forward(x_neg).detach()"
      ]
    },
    {
      "cell_type": "code",
      "execution_count": 15,
      "metadata": {
        "id": "4OZKj9501cQi"
      },
      "outputs": [],
      "source": [
        "class Net(torch.nn.Module):\n",
        "\n",
        "    def __init__(self, dimensions):\n",
        "        super().__init__()\n",
        "        self.layers = torch.nn.ModuleList([ReLULayer(dimensions[i], dimensions[i + 1]) for i in range(len(dimensions)-1)])\n",
        "    def predict(self, x):\n",
        "        goodness_per_label = []\n",
        "        for label in range(10):\n",
        "            x_lab = label_images(x, label)\n",
        "            goodness = []\n",
        "            for i, layer in enumerate(self.layers):\n",
        "                x_lab = layer(x_lab)\n",
        "                if i>0:\n",
        "                    goodness.append(\n",
        "                        torch.sum(torch.square(x_lab),1)\n",
        "                    )\n",
        "            goodness_per_label.append(sum(goodness).unsqueeze(1))\n",
        "        goodness_per_label = torch.cat(goodness_per_label, 1)\n",
        "        return torch.argmax(goodness_per_label, dim=1)\n",
        "    \n",
        "    def train(self, x_pos, x_neg):\n",
        "        for layer in self.layers:\n",
        "            x_pos, x_neg = layer.train(x_pos, x_neg)"
      ]
    },
    {
      "cell_type": "code",
      "execution_count": 16,
      "metadata": {
        "colab": {
          "base_uri": "https://localhost:8080/"
        },
        "id": "cZsSA9FF1cQk",
        "outputId": "089a1dff-a31a-4be5-bce7-23ce9c556c11"
      },
      "outputs": [
        {
          "output_type": "stream",
          "name": "stdout",
          "text": [
            "Train accuracy: 0.09871666878461838\n",
            "Test accuracy: 0.09799999743700027\n"
          ]
        }
      ],
      "source": [
        "net = Net([784, 500, 500]).to(device)\n",
        "\n",
        "net.train(x_pos,x_neg)\n",
        "\n",
        "\n",
        "x, y = next(iter(trainloader))\n",
        "x=x.to(device)\n",
        "y=y.to(device)\n",
        "\n",
        "x_pos = label_images(x, y)\n",
        "\n",
        "rnd = torch.randperm(x.size(0))\n",
        "x_neg = label_images(x, y[rnd])\n",
        "\n",
        "net.train(x_pos,x_neg)\n",
        "\n",
        "print('Train accuracy:', net.predict(x).eq(y).float().mean().item())\n",
        "print('Test accuracy:', net.predict(x_te).eq(y_te).float().mean().item())"
      ]
    },
    {
      "cell_type": "markdown",
      "source": [
        "### Results\n",
        "It seems that the mean of the squared activities is the best goodness function to use among the tested functions. The mean of the activities, the sum of the activities (which had a decent accuracy) and the sum of the squared activities didn't produce a similar accuracy of 0.93 of the mean of the squared activities."
      ],
      "metadata": {
        "id": "bnJFMouq4yul"
      }
    }
  ],
  "metadata": {
    "accelerator": "GPU",
    "colab": {
      "provenance": []
    },
    "gpuClass": "standard",
    "kernelspec": {
      "display_name": "Python 3 (ipykernel)",
      "language": "python",
      "name": "python3"
    },
    "language_info": {
      "codemirror_mode": {
        "name": "ipython",
        "version": 3
      },
      "file_extension": ".py",
      "mimetype": "text/x-python",
      "name": "python",
      "nbconvert_exporter": "python",
      "pygments_lexer": "ipython3",
      "version": "3.10.6"
    },
    "widgets": {
      "application/vnd.jupyter.widget-state+json": {
        "2e8842dc3b65452fa1ecc64d0db37b9a": {
          "model_module": "@jupyter-widgets/controls",
          "model_name": "HBoxModel",
          "model_module_version": "1.5.0",
          "state": {
            "_dom_classes": [],
            "_model_module": "@jupyter-widgets/controls",
            "_model_module_version": "1.5.0",
            "_model_name": "HBoxModel",
            "_view_count": null,
            "_view_module": "@jupyter-widgets/controls",
            "_view_module_version": "1.5.0",
            "_view_name": "HBoxView",
            "box_style": "",
            "children": [
              "IPY_MODEL_362c379f31664c26bf9108c41cfce5ae",
              "IPY_MODEL_42365c1ae01347ebb3c4fbe4595667c3",
              "IPY_MODEL_52d310708b4e400bb7d27a8da05712ba"
            ],
            "layout": "IPY_MODEL_958a5ac7779b4d87b6412c365671918e"
          }
        },
        "362c379f31664c26bf9108c41cfce5ae": {
          "model_module": "@jupyter-widgets/controls",
          "model_name": "HTMLModel",
          "model_module_version": "1.5.0",
          "state": {
            "_dom_classes": [],
            "_model_module": "@jupyter-widgets/controls",
            "_model_module_version": "1.5.0",
            "_model_name": "HTMLModel",
            "_view_count": null,
            "_view_module": "@jupyter-widgets/controls",
            "_view_module_version": "1.5.0",
            "_view_name": "HTMLView",
            "description": "",
            "description_tooltip": null,
            "layout": "IPY_MODEL_aaf3a17b17cc49e88dd0124421b6497d",
            "placeholder": "​",
            "style": "IPY_MODEL_b49529c697724634a83e7299f3a14954",
            "value": "100%"
          }
        },
        "42365c1ae01347ebb3c4fbe4595667c3": {
          "model_module": "@jupyter-widgets/controls",
          "model_name": "FloatProgressModel",
          "model_module_version": "1.5.0",
          "state": {
            "_dom_classes": [],
            "_model_module": "@jupyter-widgets/controls",
            "_model_module_version": "1.5.0",
            "_model_name": "FloatProgressModel",
            "_view_count": null,
            "_view_module": "@jupyter-widgets/controls",
            "_view_module_version": "1.5.0",
            "_view_name": "ProgressView",
            "bar_style": "success",
            "description": "",
            "description_tooltip": null,
            "layout": "IPY_MODEL_ad9669b08e1d4312a16239cb0e921ef6",
            "max": 9912422,
            "min": 0,
            "orientation": "horizontal",
            "style": "IPY_MODEL_ee831d5b26594216b602333172c0398a",
            "value": 9912422
          }
        },
        "52d310708b4e400bb7d27a8da05712ba": {
          "model_module": "@jupyter-widgets/controls",
          "model_name": "HTMLModel",
          "model_module_version": "1.5.0",
          "state": {
            "_dom_classes": [],
            "_model_module": "@jupyter-widgets/controls",
            "_model_module_version": "1.5.0",
            "_model_name": "HTMLModel",
            "_view_count": null,
            "_view_module": "@jupyter-widgets/controls",
            "_view_module_version": "1.5.0",
            "_view_name": "HTMLView",
            "description": "",
            "description_tooltip": null,
            "layout": "IPY_MODEL_059c9f6e2c694ffba24368d7b4b4191a",
            "placeholder": "​",
            "style": "IPY_MODEL_319a064263da47e2a96c7010da34adde",
            "value": " 9912422/9912422 [00:00&lt;00:00, 78925015.84it/s]"
          }
        },
        "958a5ac7779b4d87b6412c365671918e": {
          "model_module": "@jupyter-widgets/base",
          "model_name": "LayoutModel",
          "model_module_version": "1.2.0",
          "state": {
            "_model_module": "@jupyter-widgets/base",
            "_model_module_version": "1.2.0",
            "_model_name": "LayoutModel",
            "_view_count": null,
            "_view_module": "@jupyter-widgets/base",
            "_view_module_version": "1.2.0",
            "_view_name": "LayoutView",
            "align_content": null,
            "align_items": null,
            "align_self": null,
            "border": null,
            "bottom": null,
            "display": null,
            "flex": null,
            "flex_flow": null,
            "grid_area": null,
            "grid_auto_columns": null,
            "grid_auto_flow": null,
            "grid_auto_rows": null,
            "grid_column": null,
            "grid_gap": null,
            "grid_row": null,
            "grid_template_areas": null,
            "grid_template_columns": null,
            "grid_template_rows": null,
            "height": null,
            "justify_content": null,
            "justify_items": null,
            "left": null,
            "margin": null,
            "max_height": null,
            "max_width": null,
            "min_height": null,
            "min_width": null,
            "object_fit": null,
            "object_position": null,
            "order": null,
            "overflow": null,
            "overflow_x": null,
            "overflow_y": null,
            "padding": null,
            "right": null,
            "top": null,
            "visibility": null,
            "width": null
          }
        },
        "aaf3a17b17cc49e88dd0124421b6497d": {
          "model_module": "@jupyter-widgets/base",
          "model_name": "LayoutModel",
          "model_module_version": "1.2.0",
          "state": {
            "_model_module": "@jupyter-widgets/base",
            "_model_module_version": "1.2.0",
            "_model_name": "LayoutModel",
            "_view_count": null,
            "_view_module": "@jupyter-widgets/base",
            "_view_module_version": "1.2.0",
            "_view_name": "LayoutView",
            "align_content": null,
            "align_items": null,
            "align_self": null,
            "border": null,
            "bottom": null,
            "display": null,
            "flex": null,
            "flex_flow": null,
            "grid_area": null,
            "grid_auto_columns": null,
            "grid_auto_flow": null,
            "grid_auto_rows": null,
            "grid_column": null,
            "grid_gap": null,
            "grid_row": null,
            "grid_template_areas": null,
            "grid_template_columns": null,
            "grid_template_rows": null,
            "height": null,
            "justify_content": null,
            "justify_items": null,
            "left": null,
            "margin": null,
            "max_height": null,
            "max_width": null,
            "min_height": null,
            "min_width": null,
            "object_fit": null,
            "object_position": null,
            "order": null,
            "overflow": null,
            "overflow_x": null,
            "overflow_y": null,
            "padding": null,
            "right": null,
            "top": null,
            "visibility": null,
            "width": null
          }
        },
        "b49529c697724634a83e7299f3a14954": {
          "model_module": "@jupyter-widgets/controls",
          "model_name": "DescriptionStyleModel",
          "model_module_version": "1.5.0",
          "state": {
            "_model_module": "@jupyter-widgets/controls",
            "_model_module_version": "1.5.0",
            "_model_name": "DescriptionStyleModel",
            "_view_count": null,
            "_view_module": "@jupyter-widgets/base",
            "_view_module_version": "1.2.0",
            "_view_name": "StyleView",
            "description_width": ""
          }
        },
        "ad9669b08e1d4312a16239cb0e921ef6": {
          "model_module": "@jupyter-widgets/base",
          "model_name": "LayoutModel",
          "model_module_version": "1.2.0",
          "state": {
            "_model_module": "@jupyter-widgets/base",
            "_model_module_version": "1.2.0",
            "_model_name": "LayoutModel",
            "_view_count": null,
            "_view_module": "@jupyter-widgets/base",
            "_view_module_version": "1.2.0",
            "_view_name": "LayoutView",
            "align_content": null,
            "align_items": null,
            "align_self": null,
            "border": null,
            "bottom": null,
            "display": null,
            "flex": null,
            "flex_flow": null,
            "grid_area": null,
            "grid_auto_columns": null,
            "grid_auto_flow": null,
            "grid_auto_rows": null,
            "grid_column": null,
            "grid_gap": null,
            "grid_row": null,
            "grid_template_areas": null,
            "grid_template_columns": null,
            "grid_template_rows": null,
            "height": null,
            "justify_content": null,
            "justify_items": null,
            "left": null,
            "margin": null,
            "max_height": null,
            "max_width": null,
            "min_height": null,
            "min_width": null,
            "object_fit": null,
            "object_position": null,
            "order": null,
            "overflow": null,
            "overflow_x": null,
            "overflow_y": null,
            "padding": null,
            "right": null,
            "top": null,
            "visibility": null,
            "width": null
          }
        },
        "ee831d5b26594216b602333172c0398a": {
          "model_module": "@jupyter-widgets/controls",
          "model_name": "ProgressStyleModel",
          "model_module_version": "1.5.0",
          "state": {
            "_model_module": "@jupyter-widgets/controls",
            "_model_module_version": "1.5.0",
            "_model_name": "ProgressStyleModel",
            "_view_count": null,
            "_view_module": "@jupyter-widgets/base",
            "_view_module_version": "1.2.0",
            "_view_name": "StyleView",
            "bar_color": null,
            "description_width": ""
          }
        },
        "059c9f6e2c694ffba24368d7b4b4191a": {
          "model_module": "@jupyter-widgets/base",
          "model_name": "LayoutModel",
          "model_module_version": "1.2.0",
          "state": {
            "_model_module": "@jupyter-widgets/base",
            "_model_module_version": "1.2.0",
            "_model_name": "LayoutModel",
            "_view_count": null,
            "_view_module": "@jupyter-widgets/base",
            "_view_module_version": "1.2.0",
            "_view_name": "LayoutView",
            "align_content": null,
            "align_items": null,
            "align_self": null,
            "border": null,
            "bottom": null,
            "display": null,
            "flex": null,
            "flex_flow": null,
            "grid_area": null,
            "grid_auto_columns": null,
            "grid_auto_flow": null,
            "grid_auto_rows": null,
            "grid_column": null,
            "grid_gap": null,
            "grid_row": null,
            "grid_template_areas": null,
            "grid_template_columns": null,
            "grid_template_rows": null,
            "height": null,
            "justify_content": null,
            "justify_items": null,
            "left": null,
            "margin": null,
            "max_height": null,
            "max_width": null,
            "min_height": null,
            "min_width": null,
            "object_fit": null,
            "object_position": null,
            "order": null,
            "overflow": null,
            "overflow_x": null,
            "overflow_y": null,
            "padding": null,
            "right": null,
            "top": null,
            "visibility": null,
            "width": null
          }
        },
        "319a064263da47e2a96c7010da34adde": {
          "model_module": "@jupyter-widgets/controls",
          "model_name": "DescriptionStyleModel",
          "model_module_version": "1.5.0",
          "state": {
            "_model_module": "@jupyter-widgets/controls",
            "_model_module_version": "1.5.0",
            "_model_name": "DescriptionStyleModel",
            "_view_count": null,
            "_view_module": "@jupyter-widgets/base",
            "_view_module_version": "1.2.0",
            "_view_name": "StyleView",
            "description_width": ""
          }
        },
        "4b8ca8e38e7d4059a0b6fe1f60088d4c": {
          "model_module": "@jupyter-widgets/controls",
          "model_name": "HBoxModel",
          "model_module_version": "1.5.0",
          "state": {
            "_dom_classes": [],
            "_model_module": "@jupyter-widgets/controls",
            "_model_module_version": "1.5.0",
            "_model_name": "HBoxModel",
            "_view_count": null,
            "_view_module": "@jupyter-widgets/controls",
            "_view_module_version": "1.5.0",
            "_view_name": "HBoxView",
            "box_style": "",
            "children": [
              "IPY_MODEL_0ffd969e2fce4487aa24954770bfd4ea",
              "IPY_MODEL_8f04ee858b1e446e851204d5419cd430",
              "IPY_MODEL_2bb941fa1a5745fd8a97f82379bf414d"
            ],
            "layout": "IPY_MODEL_9d14282dc2f2467f804dad5658c3b171"
          }
        },
        "0ffd969e2fce4487aa24954770bfd4ea": {
          "model_module": "@jupyter-widgets/controls",
          "model_name": "HTMLModel",
          "model_module_version": "1.5.0",
          "state": {
            "_dom_classes": [],
            "_model_module": "@jupyter-widgets/controls",
            "_model_module_version": "1.5.0",
            "_model_name": "HTMLModel",
            "_view_count": null,
            "_view_module": "@jupyter-widgets/controls",
            "_view_module_version": "1.5.0",
            "_view_name": "HTMLView",
            "description": "",
            "description_tooltip": null,
            "layout": "IPY_MODEL_19619460163147fe863ca1121ca4c7cc",
            "placeholder": "​",
            "style": "IPY_MODEL_929efacc13cf4db4b9e6e6cac814097b",
            "value": "100%"
          }
        },
        "8f04ee858b1e446e851204d5419cd430": {
          "model_module": "@jupyter-widgets/controls",
          "model_name": "FloatProgressModel",
          "model_module_version": "1.5.0",
          "state": {
            "_dom_classes": [],
            "_model_module": "@jupyter-widgets/controls",
            "_model_module_version": "1.5.0",
            "_model_name": "FloatProgressModel",
            "_view_count": null,
            "_view_module": "@jupyter-widgets/controls",
            "_view_module_version": "1.5.0",
            "_view_name": "ProgressView",
            "bar_style": "success",
            "description": "",
            "description_tooltip": null,
            "layout": "IPY_MODEL_24c52b8b2dd043209f30b00a273e5049",
            "max": 28881,
            "min": 0,
            "orientation": "horizontal",
            "style": "IPY_MODEL_f8431b18bcbf4406b1ccfb66850da5c0",
            "value": 28881
          }
        },
        "2bb941fa1a5745fd8a97f82379bf414d": {
          "model_module": "@jupyter-widgets/controls",
          "model_name": "HTMLModel",
          "model_module_version": "1.5.0",
          "state": {
            "_dom_classes": [],
            "_model_module": "@jupyter-widgets/controls",
            "_model_module_version": "1.5.0",
            "_model_name": "HTMLModel",
            "_view_count": null,
            "_view_module": "@jupyter-widgets/controls",
            "_view_module_version": "1.5.0",
            "_view_name": "HTMLView",
            "description": "",
            "description_tooltip": null,
            "layout": "IPY_MODEL_d18bdaa43ea54df8aee06f4e75c2f01e",
            "placeholder": "​",
            "style": "IPY_MODEL_e2fe6354a8694aaab0bde379aaf55e58",
            "value": " 28881/28881 [00:00&lt;00:00, 551659.93it/s]"
          }
        },
        "9d14282dc2f2467f804dad5658c3b171": {
          "model_module": "@jupyter-widgets/base",
          "model_name": "LayoutModel",
          "model_module_version": "1.2.0",
          "state": {
            "_model_module": "@jupyter-widgets/base",
            "_model_module_version": "1.2.0",
            "_model_name": "LayoutModel",
            "_view_count": null,
            "_view_module": "@jupyter-widgets/base",
            "_view_module_version": "1.2.0",
            "_view_name": "LayoutView",
            "align_content": null,
            "align_items": null,
            "align_self": null,
            "border": null,
            "bottom": null,
            "display": null,
            "flex": null,
            "flex_flow": null,
            "grid_area": null,
            "grid_auto_columns": null,
            "grid_auto_flow": null,
            "grid_auto_rows": null,
            "grid_column": null,
            "grid_gap": null,
            "grid_row": null,
            "grid_template_areas": null,
            "grid_template_columns": null,
            "grid_template_rows": null,
            "height": null,
            "justify_content": null,
            "justify_items": null,
            "left": null,
            "margin": null,
            "max_height": null,
            "max_width": null,
            "min_height": null,
            "min_width": null,
            "object_fit": null,
            "object_position": null,
            "order": null,
            "overflow": null,
            "overflow_x": null,
            "overflow_y": null,
            "padding": null,
            "right": null,
            "top": null,
            "visibility": null,
            "width": null
          }
        },
        "19619460163147fe863ca1121ca4c7cc": {
          "model_module": "@jupyter-widgets/base",
          "model_name": "LayoutModel",
          "model_module_version": "1.2.0",
          "state": {
            "_model_module": "@jupyter-widgets/base",
            "_model_module_version": "1.2.0",
            "_model_name": "LayoutModel",
            "_view_count": null,
            "_view_module": "@jupyter-widgets/base",
            "_view_module_version": "1.2.0",
            "_view_name": "LayoutView",
            "align_content": null,
            "align_items": null,
            "align_self": null,
            "border": null,
            "bottom": null,
            "display": null,
            "flex": null,
            "flex_flow": null,
            "grid_area": null,
            "grid_auto_columns": null,
            "grid_auto_flow": null,
            "grid_auto_rows": null,
            "grid_column": null,
            "grid_gap": null,
            "grid_row": null,
            "grid_template_areas": null,
            "grid_template_columns": null,
            "grid_template_rows": null,
            "height": null,
            "justify_content": null,
            "justify_items": null,
            "left": null,
            "margin": null,
            "max_height": null,
            "max_width": null,
            "min_height": null,
            "min_width": null,
            "object_fit": null,
            "object_position": null,
            "order": null,
            "overflow": null,
            "overflow_x": null,
            "overflow_y": null,
            "padding": null,
            "right": null,
            "top": null,
            "visibility": null,
            "width": null
          }
        },
        "929efacc13cf4db4b9e6e6cac814097b": {
          "model_module": "@jupyter-widgets/controls",
          "model_name": "DescriptionStyleModel",
          "model_module_version": "1.5.0",
          "state": {
            "_model_module": "@jupyter-widgets/controls",
            "_model_module_version": "1.5.0",
            "_model_name": "DescriptionStyleModel",
            "_view_count": null,
            "_view_module": "@jupyter-widgets/base",
            "_view_module_version": "1.2.0",
            "_view_name": "StyleView",
            "description_width": ""
          }
        },
        "24c52b8b2dd043209f30b00a273e5049": {
          "model_module": "@jupyter-widgets/base",
          "model_name": "LayoutModel",
          "model_module_version": "1.2.0",
          "state": {
            "_model_module": "@jupyter-widgets/base",
            "_model_module_version": "1.2.0",
            "_model_name": "LayoutModel",
            "_view_count": null,
            "_view_module": "@jupyter-widgets/base",
            "_view_module_version": "1.2.0",
            "_view_name": "LayoutView",
            "align_content": null,
            "align_items": null,
            "align_self": null,
            "border": null,
            "bottom": null,
            "display": null,
            "flex": null,
            "flex_flow": null,
            "grid_area": null,
            "grid_auto_columns": null,
            "grid_auto_flow": null,
            "grid_auto_rows": null,
            "grid_column": null,
            "grid_gap": null,
            "grid_row": null,
            "grid_template_areas": null,
            "grid_template_columns": null,
            "grid_template_rows": null,
            "height": null,
            "justify_content": null,
            "justify_items": null,
            "left": null,
            "margin": null,
            "max_height": null,
            "max_width": null,
            "min_height": null,
            "min_width": null,
            "object_fit": null,
            "object_position": null,
            "order": null,
            "overflow": null,
            "overflow_x": null,
            "overflow_y": null,
            "padding": null,
            "right": null,
            "top": null,
            "visibility": null,
            "width": null
          }
        },
        "f8431b18bcbf4406b1ccfb66850da5c0": {
          "model_module": "@jupyter-widgets/controls",
          "model_name": "ProgressStyleModel",
          "model_module_version": "1.5.0",
          "state": {
            "_model_module": "@jupyter-widgets/controls",
            "_model_module_version": "1.5.0",
            "_model_name": "ProgressStyleModel",
            "_view_count": null,
            "_view_module": "@jupyter-widgets/base",
            "_view_module_version": "1.2.0",
            "_view_name": "StyleView",
            "bar_color": null,
            "description_width": ""
          }
        },
        "d18bdaa43ea54df8aee06f4e75c2f01e": {
          "model_module": "@jupyter-widgets/base",
          "model_name": "LayoutModel",
          "model_module_version": "1.2.0",
          "state": {
            "_model_module": "@jupyter-widgets/base",
            "_model_module_version": "1.2.0",
            "_model_name": "LayoutModel",
            "_view_count": null,
            "_view_module": "@jupyter-widgets/base",
            "_view_module_version": "1.2.0",
            "_view_name": "LayoutView",
            "align_content": null,
            "align_items": null,
            "align_self": null,
            "border": null,
            "bottom": null,
            "display": null,
            "flex": null,
            "flex_flow": null,
            "grid_area": null,
            "grid_auto_columns": null,
            "grid_auto_flow": null,
            "grid_auto_rows": null,
            "grid_column": null,
            "grid_gap": null,
            "grid_row": null,
            "grid_template_areas": null,
            "grid_template_columns": null,
            "grid_template_rows": null,
            "height": null,
            "justify_content": null,
            "justify_items": null,
            "left": null,
            "margin": null,
            "max_height": null,
            "max_width": null,
            "min_height": null,
            "min_width": null,
            "object_fit": null,
            "object_position": null,
            "order": null,
            "overflow": null,
            "overflow_x": null,
            "overflow_y": null,
            "padding": null,
            "right": null,
            "top": null,
            "visibility": null,
            "width": null
          }
        },
        "e2fe6354a8694aaab0bde379aaf55e58": {
          "model_module": "@jupyter-widgets/controls",
          "model_name": "DescriptionStyleModel",
          "model_module_version": "1.5.0",
          "state": {
            "_model_module": "@jupyter-widgets/controls",
            "_model_module_version": "1.5.0",
            "_model_name": "DescriptionStyleModel",
            "_view_count": null,
            "_view_module": "@jupyter-widgets/base",
            "_view_module_version": "1.2.0",
            "_view_name": "StyleView",
            "description_width": ""
          }
        },
        "cb6f13d109444e6e82cb0577277eb0da": {
          "model_module": "@jupyter-widgets/controls",
          "model_name": "HBoxModel",
          "model_module_version": "1.5.0",
          "state": {
            "_dom_classes": [],
            "_model_module": "@jupyter-widgets/controls",
            "_model_module_version": "1.5.0",
            "_model_name": "HBoxModel",
            "_view_count": null,
            "_view_module": "@jupyter-widgets/controls",
            "_view_module_version": "1.5.0",
            "_view_name": "HBoxView",
            "box_style": "",
            "children": [
              "IPY_MODEL_d1ad2cefb0d04c429890755b404af819",
              "IPY_MODEL_043544d92503428cb0f936fc5abd7569",
              "IPY_MODEL_be8337e590984d4fb14cf39e21b8dc27"
            ],
            "layout": "IPY_MODEL_b4ce7a000065417a94af41581f6ef73b"
          }
        },
        "d1ad2cefb0d04c429890755b404af819": {
          "model_module": "@jupyter-widgets/controls",
          "model_name": "HTMLModel",
          "model_module_version": "1.5.0",
          "state": {
            "_dom_classes": [],
            "_model_module": "@jupyter-widgets/controls",
            "_model_module_version": "1.5.0",
            "_model_name": "HTMLModel",
            "_view_count": null,
            "_view_module": "@jupyter-widgets/controls",
            "_view_module_version": "1.5.0",
            "_view_name": "HTMLView",
            "description": "",
            "description_tooltip": null,
            "layout": "IPY_MODEL_6741fac715a04ee69aabe871fe0e06e0",
            "placeholder": "​",
            "style": "IPY_MODEL_d067146afac844fe8464d5fdb2f584c1",
            "value": "100%"
          }
        },
        "043544d92503428cb0f936fc5abd7569": {
          "model_module": "@jupyter-widgets/controls",
          "model_name": "FloatProgressModel",
          "model_module_version": "1.5.0",
          "state": {
            "_dom_classes": [],
            "_model_module": "@jupyter-widgets/controls",
            "_model_module_version": "1.5.0",
            "_model_name": "FloatProgressModel",
            "_view_count": null,
            "_view_module": "@jupyter-widgets/controls",
            "_view_module_version": "1.5.0",
            "_view_name": "ProgressView",
            "bar_style": "success",
            "description": "",
            "description_tooltip": null,
            "layout": "IPY_MODEL_92ffac81694f4cdd99a87cbe1f17433b",
            "max": 1648877,
            "min": 0,
            "orientation": "horizontal",
            "style": "IPY_MODEL_dfd8d92e3b1a4b37ae7fc29736659d63",
            "value": 1648877
          }
        },
        "be8337e590984d4fb14cf39e21b8dc27": {
          "model_module": "@jupyter-widgets/controls",
          "model_name": "HTMLModel",
          "model_module_version": "1.5.0",
          "state": {
            "_dom_classes": [],
            "_model_module": "@jupyter-widgets/controls",
            "_model_module_version": "1.5.0",
            "_model_name": "HTMLModel",
            "_view_count": null,
            "_view_module": "@jupyter-widgets/controls",
            "_view_module_version": "1.5.0",
            "_view_name": "HTMLView",
            "description": "",
            "description_tooltip": null,
            "layout": "IPY_MODEL_5d34288949a441489b0e50f054fb958c",
            "placeholder": "​",
            "style": "IPY_MODEL_cb5f67b4403249ac9b9690d33e9d5052",
            "value": " 1648877/1648877 [00:00&lt;00:00, 25039342.35it/s]"
          }
        },
        "b4ce7a000065417a94af41581f6ef73b": {
          "model_module": "@jupyter-widgets/base",
          "model_name": "LayoutModel",
          "model_module_version": "1.2.0",
          "state": {
            "_model_module": "@jupyter-widgets/base",
            "_model_module_version": "1.2.0",
            "_model_name": "LayoutModel",
            "_view_count": null,
            "_view_module": "@jupyter-widgets/base",
            "_view_module_version": "1.2.0",
            "_view_name": "LayoutView",
            "align_content": null,
            "align_items": null,
            "align_self": null,
            "border": null,
            "bottom": null,
            "display": null,
            "flex": null,
            "flex_flow": null,
            "grid_area": null,
            "grid_auto_columns": null,
            "grid_auto_flow": null,
            "grid_auto_rows": null,
            "grid_column": null,
            "grid_gap": null,
            "grid_row": null,
            "grid_template_areas": null,
            "grid_template_columns": null,
            "grid_template_rows": null,
            "height": null,
            "justify_content": null,
            "justify_items": null,
            "left": null,
            "margin": null,
            "max_height": null,
            "max_width": null,
            "min_height": null,
            "min_width": null,
            "object_fit": null,
            "object_position": null,
            "order": null,
            "overflow": null,
            "overflow_x": null,
            "overflow_y": null,
            "padding": null,
            "right": null,
            "top": null,
            "visibility": null,
            "width": null
          }
        },
        "6741fac715a04ee69aabe871fe0e06e0": {
          "model_module": "@jupyter-widgets/base",
          "model_name": "LayoutModel",
          "model_module_version": "1.2.0",
          "state": {
            "_model_module": "@jupyter-widgets/base",
            "_model_module_version": "1.2.0",
            "_model_name": "LayoutModel",
            "_view_count": null,
            "_view_module": "@jupyter-widgets/base",
            "_view_module_version": "1.2.0",
            "_view_name": "LayoutView",
            "align_content": null,
            "align_items": null,
            "align_self": null,
            "border": null,
            "bottom": null,
            "display": null,
            "flex": null,
            "flex_flow": null,
            "grid_area": null,
            "grid_auto_columns": null,
            "grid_auto_flow": null,
            "grid_auto_rows": null,
            "grid_column": null,
            "grid_gap": null,
            "grid_row": null,
            "grid_template_areas": null,
            "grid_template_columns": null,
            "grid_template_rows": null,
            "height": null,
            "justify_content": null,
            "justify_items": null,
            "left": null,
            "margin": null,
            "max_height": null,
            "max_width": null,
            "min_height": null,
            "min_width": null,
            "object_fit": null,
            "object_position": null,
            "order": null,
            "overflow": null,
            "overflow_x": null,
            "overflow_y": null,
            "padding": null,
            "right": null,
            "top": null,
            "visibility": null,
            "width": null
          }
        },
        "d067146afac844fe8464d5fdb2f584c1": {
          "model_module": "@jupyter-widgets/controls",
          "model_name": "DescriptionStyleModel",
          "model_module_version": "1.5.0",
          "state": {
            "_model_module": "@jupyter-widgets/controls",
            "_model_module_version": "1.5.0",
            "_model_name": "DescriptionStyleModel",
            "_view_count": null,
            "_view_module": "@jupyter-widgets/base",
            "_view_module_version": "1.2.0",
            "_view_name": "StyleView",
            "description_width": ""
          }
        },
        "92ffac81694f4cdd99a87cbe1f17433b": {
          "model_module": "@jupyter-widgets/base",
          "model_name": "LayoutModel",
          "model_module_version": "1.2.0",
          "state": {
            "_model_module": "@jupyter-widgets/base",
            "_model_module_version": "1.2.0",
            "_model_name": "LayoutModel",
            "_view_count": null,
            "_view_module": "@jupyter-widgets/base",
            "_view_module_version": "1.2.0",
            "_view_name": "LayoutView",
            "align_content": null,
            "align_items": null,
            "align_self": null,
            "border": null,
            "bottom": null,
            "display": null,
            "flex": null,
            "flex_flow": null,
            "grid_area": null,
            "grid_auto_columns": null,
            "grid_auto_flow": null,
            "grid_auto_rows": null,
            "grid_column": null,
            "grid_gap": null,
            "grid_row": null,
            "grid_template_areas": null,
            "grid_template_columns": null,
            "grid_template_rows": null,
            "height": null,
            "justify_content": null,
            "justify_items": null,
            "left": null,
            "margin": null,
            "max_height": null,
            "max_width": null,
            "min_height": null,
            "min_width": null,
            "object_fit": null,
            "object_position": null,
            "order": null,
            "overflow": null,
            "overflow_x": null,
            "overflow_y": null,
            "padding": null,
            "right": null,
            "top": null,
            "visibility": null,
            "width": null
          }
        },
        "dfd8d92e3b1a4b37ae7fc29736659d63": {
          "model_module": "@jupyter-widgets/controls",
          "model_name": "ProgressStyleModel",
          "model_module_version": "1.5.0",
          "state": {
            "_model_module": "@jupyter-widgets/controls",
            "_model_module_version": "1.5.0",
            "_model_name": "ProgressStyleModel",
            "_view_count": null,
            "_view_module": "@jupyter-widgets/base",
            "_view_module_version": "1.2.0",
            "_view_name": "StyleView",
            "bar_color": null,
            "description_width": ""
          }
        },
        "5d34288949a441489b0e50f054fb958c": {
          "model_module": "@jupyter-widgets/base",
          "model_name": "LayoutModel",
          "model_module_version": "1.2.0",
          "state": {
            "_model_module": "@jupyter-widgets/base",
            "_model_module_version": "1.2.0",
            "_model_name": "LayoutModel",
            "_view_count": null,
            "_view_module": "@jupyter-widgets/base",
            "_view_module_version": "1.2.0",
            "_view_name": "LayoutView",
            "align_content": null,
            "align_items": null,
            "align_self": null,
            "border": null,
            "bottom": null,
            "display": null,
            "flex": null,
            "flex_flow": null,
            "grid_area": null,
            "grid_auto_columns": null,
            "grid_auto_flow": null,
            "grid_auto_rows": null,
            "grid_column": null,
            "grid_gap": null,
            "grid_row": null,
            "grid_template_areas": null,
            "grid_template_columns": null,
            "grid_template_rows": null,
            "height": null,
            "justify_content": null,
            "justify_items": null,
            "left": null,
            "margin": null,
            "max_height": null,
            "max_width": null,
            "min_height": null,
            "min_width": null,
            "object_fit": null,
            "object_position": null,
            "order": null,
            "overflow": null,
            "overflow_x": null,
            "overflow_y": null,
            "padding": null,
            "right": null,
            "top": null,
            "visibility": null,
            "width": null
          }
        },
        "cb5f67b4403249ac9b9690d33e9d5052": {
          "model_module": "@jupyter-widgets/controls",
          "model_name": "DescriptionStyleModel",
          "model_module_version": "1.5.0",
          "state": {
            "_model_module": "@jupyter-widgets/controls",
            "_model_module_version": "1.5.0",
            "_model_name": "DescriptionStyleModel",
            "_view_count": null,
            "_view_module": "@jupyter-widgets/base",
            "_view_module_version": "1.2.0",
            "_view_name": "StyleView",
            "description_width": ""
          }
        },
        "0f79c40c136f4975872001fb22e89ebb": {
          "model_module": "@jupyter-widgets/controls",
          "model_name": "HBoxModel",
          "model_module_version": "1.5.0",
          "state": {
            "_dom_classes": [],
            "_model_module": "@jupyter-widgets/controls",
            "_model_module_version": "1.5.0",
            "_model_name": "HBoxModel",
            "_view_count": null,
            "_view_module": "@jupyter-widgets/controls",
            "_view_module_version": "1.5.0",
            "_view_name": "HBoxView",
            "box_style": "",
            "children": [
              "IPY_MODEL_5b39ca4987094d5d88203e3e683a5261",
              "IPY_MODEL_ef3b45e212a74b6281b2575da6c627f5",
              "IPY_MODEL_219b69476aa04311b5f96357a2a8901c"
            ],
            "layout": "IPY_MODEL_95e6581a3cbf4f948d8a1a7fe8b73f70"
          }
        },
        "5b39ca4987094d5d88203e3e683a5261": {
          "model_module": "@jupyter-widgets/controls",
          "model_name": "HTMLModel",
          "model_module_version": "1.5.0",
          "state": {
            "_dom_classes": [],
            "_model_module": "@jupyter-widgets/controls",
            "_model_module_version": "1.5.0",
            "_model_name": "HTMLModel",
            "_view_count": null,
            "_view_module": "@jupyter-widgets/controls",
            "_view_module_version": "1.5.0",
            "_view_name": "HTMLView",
            "description": "",
            "description_tooltip": null,
            "layout": "IPY_MODEL_3969b57a07c14cf997b047cd548b3cbf",
            "placeholder": "​",
            "style": "IPY_MODEL_bf4e874e45ea4fca8ef9920d3a682453",
            "value": "100%"
          }
        },
        "ef3b45e212a74b6281b2575da6c627f5": {
          "model_module": "@jupyter-widgets/controls",
          "model_name": "FloatProgressModel",
          "model_module_version": "1.5.0",
          "state": {
            "_dom_classes": [],
            "_model_module": "@jupyter-widgets/controls",
            "_model_module_version": "1.5.0",
            "_model_name": "FloatProgressModel",
            "_view_count": null,
            "_view_module": "@jupyter-widgets/controls",
            "_view_module_version": "1.5.0",
            "_view_name": "ProgressView",
            "bar_style": "success",
            "description": "",
            "description_tooltip": null,
            "layout": "IPY_MODEL_95f6528ecb4d4ef3a18cec7d85695e70",
            "max": 4542,
            "min": 0,
            "orientation": "horizontal",
            "style": "IPY_MODEL_aacab7594b75482f8ac99b82480e8be8",
            "value": 4542
          }
        },
        "219b69476aa04311b5f96357a2a8901c": {
          "model_module": "@jupyter-widgets/controls",
          "model_name": "HTMLModel",
          "model_module_version": "1.5.0",
          "state": {
            "_dom_classes": [],
            "_model_module": "@jupyter-widgets/controls",
            "_model_module_version": "1.5.0",
            "_model_name": "HTMLModel",
            "_view_count": null,
            "_view_module": "@jupyter-widgets/controls",
            "_view_module_version": "1.5.0",
            "_view_name": "HTMLView",
            "description": "",
            "description_tooltip": null,
            "layout": "IPY_MODEL_103cdf5bab2945cfad57a0be1278100a",
            "placeholder": "​",
            "style": "IPY_MODEL_f3cc94024c3142f48e69f2e04905aeff",
            "value": " 4542/4542 [00:00&lt;00:00, 114694.51it/s]"
          }
        },
        "95e6581a3cbf4f948d8a1a7fe8b73f70": {
          "model_module": "@jupyter-widgets/base",
          "model_name": "LayoutModel",
          "model_module_version": "1.2.0",
          "state": {
            "_model_module": "@jupyter-widgets/base",
            "_model_module_version": "1.2.0",
            "_model_name": "LayoutModel",
            "_view_count": null,
            "_view_module": "@jupyter-widgets/base",
            "_view_module_version": "1.2.0",
            "_view_name": "LayoutView",
            "align_content": null,
            "align_items": null,
            "align_self": null,
            "border": null,
            "bottom": null,
            "display": null,
            "flex": null,
            "flex_flow": null,
            "grid_area": null,
            "grid_auto_columns": null,
            "grid_auto_flow": null,
            "grid_auto_rows": null,
            "grid_column": null,
            "grid_gap": null,
            "grid_row": null,
            "grid_template_areas": null,
            "grid_template_columns": null,
            "grid_template_rows": null,
            "height": null,
            "justify_content": null,
            "justify_items": null,
            "left": null,
            "margin": null,
            "max_height": null,
            "max_width": null,
            "min_height": null,
            "min_width": null,
            "object_fit": null,
            "object_position": null,
            "order": null,
            "overflow": null,
            "overflow_x": null,
            "overflow_y": null,
            "padding": null,
            "right": null,
            "top": null,
            "visibility": null,
            "width": null
          }
        },
        "3969b57a07c14cf997b047cd548b3cbf": {
          "model_module": "@jupyter-widgets/base",
          "model_name": "LayoutModel",
          "model_module_version": "1.2.0",
          "state": {
            "_model_module": "@jupyter-widgets/base",
            "_model_module_version": "1.2.0",
            "_model_name": "LayoutModel",
            "_view_count": null,
            "_view_module": "@jupyter-widgets/base",
            "_view_module_version": "1.2.0",
            "_view_name": "LayoutView",
            "align_content": null,
            "align_items": null,
            "align_self": null,
            "border": null,
            "bottom": null,
            "display": null,
            "flex": null,
            "flex_flow": null,
            "grid_area": null,
            "grid_auto_columns": null,
            "grid_auto_flow": null,
            "grid_auto_rows": null,
            "grid_column": null,
            "grid_gap": null,
            "grid_row": null,
            "grid_template_areas": null,
            "grid_template_columns": null,
            "grid_template_rows": null,
            "height": null,
            "justify_content": null,
            "justify_items": null,
            "left": null,
            "margin": null,
            "max_height": null,
            "max_width": null,
            "min_height": null,
            "min_width": null,
            "object_fit": null,
            "object_position": null,
            "order": null,
            "overflow": null,
            "overflow_x": null,
            "overflow_y": null,
            "padding": null,
            "right": null,
            "top": null,
            "visibility": null,
            "width": null
          }
        },
        "bf4e874e45ea4fca8ef9920d3a682453": {
          "model_module": "@jupyter-widgets/controls",
          "model_name": "DescriptionStyleModel",
          "model_module_version": "1.5.0",
          "state": {
            "_model_module": "@jupyter-widgets/controls",
            "_model_module_version": "1.5.0",
            "_model_name": "DescriptionStyleModel",
            "_view_count": null,
            "_view_module": "@jupyter-widgets/base",
            "_view_module_version": "1.2.0",
            "_view_name": "StyleView",
            "description_width": ""
          }
        },
        "95f6528ecb4d4ef3a18cec7d85695e70": {
          "model_module": "@jupyter-widgets/base",
          "model_name": "LayoutModel",
          "model_module_version": "1.2.0",
          "state": {
            "_model_module": "@jupyter-widgets/base",
            "_model_module_version": "1.2.0",
            "_model_name": "LayoutModel",
            "_view_count": null,
            "_view_module": "@jupyter-widgets/base",
            "_view_module_version": "1.2.0",
            "_view_name": "LayoutView",
            "align_content": null,
            "align_items": null,
            "align_self": null,
            "border": null,
            "bottom": null,
            "display": null,
            "flex": null,
            "flex_flow": null,
            "grid_area": null,
            "grid_auto_columns": null,
            "grid_auto_flow": null,
            "grid_auto_rows": null,
            "grid_column": null,
            "grid_gap": null,
            "grid_row": null,
            "grid_template_areas": null,
            "grid_template_columns": null,
            "grid_template_rows": null,
            "height": null,
            "justify_content": null,
            "justify_items": null,
            "left": null,
            "margin": null,
            "max_height": null,
            "max_width": null,
            "min_height": null,
            "min_width": null,
            "object_fit": null,
            "object_position": null,
            "order": null,
            "overflow": null,
            "overflow_x": null,
            "overflow_y": null,
            "padding": null,
            "right": null,
            "top": null,
            "visibility": null,
            "width": null
          }
        },
        "aacab7594b75482f8ac99b82480e8be8": {
          "model_module": "@jupyter-widgets/controls",
          "model_name": "ProgressStyleModel",
          "model_module_version": "1.5.0",
          "state": {
            "_model_module": "@jupyter-widgets/controls",
            "_model_module_version": "1.5.0",
            "_model_name": "ProgressStyleModel",
            "_view_count": null,
            "_view_module": "@jupyter-widgets/base",
            "_view_module_version": "1.2.0",
            "_view_name": "StyleView",
            "bar_color": null,
            "description_width": ""
          }
        },
        "103cdf5bab2945cfad57a0be1278100a": {
          "model_module": "@jupyter-widgets/base",
          "model_name": "LayoutModel",
          "model_module_version": "1.2.0",
          "state": {
            "_model_module": "@jupyter-widgets/base",
            "_model_module_version": "1.2.0",
            "_model_name": "LayoutModel",
            "_view_count": null,
            "_view_module": "@jupyter-widgets/base",
            "_view_module_version": "1.2.0",
            "_view_name": "LayoutView",
            "align_content": null,
            "align_items": null,
            "align_self": null,
            "border": null,
            "bottom": null,
            "display": null,
            "flex": null,
            "flex_flow": null,
            "grid_area": null,
            "grid_auto_columns": null,
            "grid_auto_flow": null,
            "grid_auto_rows": null,
            "grid_column": null,
            "grid_gap": null,
            "grid_row": null,
            "grid_template_areas": null,
            "grid_template_columns": null,
            "grid_template_rows": null,
            "height": null,
            "justify_content": null,
            "justify_items": null,
            "left": null,
            "margin": null,
            "max_height": null,
            "max_width": null,
            "min_height": null,
            "min_width": null,
            "object_fit": null,
            "object_position": null,
            "order": null,
            "overflow": null,
            "overflow_x": null,
            "overflow_y": null,
            "padding": null,
            "right": null,
            "top": null,
            "visibility": null,
            "width": null
          }
        },
        "f3cc94024c3142f48e69f2e04905aeff": {
          "model_module": "@jupyter-widgets/controls",
          "model_name": "DescriptionStyleModel",
          "model_module_version": "1.5.0",
          "state": {
            "_model_module": "@jupyter-widgets/controls",
            "_model_module_version": "1.5.0",
            "_model_name": "DescriptionStyleModel",
            "_view_count": null,
            "_view_module": "@jupyter-widgets/base",
            "_view_module_version": "1.2.0",
            "_view_name": "StyleView",
            "description_width": ""
          }
        }
      }
    }
  },
  "nbformat": 4,
  "nbformat_minor": 0
}